{
  "nbformat": 4,
  "nbformat_minor": 0,
  "metadata": {
    "colab": {
      "provenance": []
    },
    "kernelspec": {
      "name": "python3",
      "display_name": "Python 3"
    },
    "language_info": {
      "name": "python"
    },
    "accelerator": "GPU",
    "gpuClass": "standard",
    "widgets": {
      "application/vnd.jupyter.widget-state+json": {
        "d9bc0a27829a4d729020a38955fabb12": {
          "model_module": "@jupyter-widgets/controls",
          "model_name": "HBoxModel",
          "model_module_version": "1.5.0",
          "state": {
            "_dom_classes": [],
            "_model_module": "@jupyter-widgets/controls",
            "_model_module_version": "1.5.0",
            "_model_name": "HBoxModel",
            "_view_count": null,
            "_view_module": "@jupyter-widgets/controls",
            "_view_module_version": "1.5.0",
            "_view_name": "HBoxView",
            "box_style": "",
            "children": [
              "IPY_MODEL_e60e1d6039d240d9abaae505f85a3108",
              "IPY_MODEL_5d4641a6df48421aaa8e5dbdf083d17b",
              "IPY_MODEL_3e6eb7b3af5f4ea7bfc2efb088ff872c"
            ],
            "layout": "IPY_MODEL_7b02b763d87d46bc8b2e269af9b368cf"
          }
        },
        "e60e1d6039d240d9abaae505f85a3108": {
          "model_module": "@jupyter-widgets/controls",
          "model_name": "HTMLModel",
          "model_module_version": "1.5.0",
          "state": {
            "_dom_classes": [],
            "_model_module": "@jupyter-widgets/controls",
            "_model_module_version": "1.5.0",
            "_model_name": "HTMLModel",
            "_view_count": null,
            "_view_module": "@jupyter-widgets/controls",
            "_view_module_version": "1.5.0",
            "_view_name": "HTMLView",
            "description": "",
            "description_tooltip": null,
            "layout": "IPY_MODEL_8c16b66d97004f90a696cc57ba0f8453",
            "placeholder": "​",
            "style": "IPY_MODEL_d91f34f5487a4f01bd3d4f0cf2a6a723",
            "value": "100%"
          }
        },
        "5d4641a6df48421aaa8e5dbdf083d17b": {
          "model_module": "@jupyter-widgets/controls",
          "model_name": "FloatProgressModel",
          "model_module_version": "1.5.0",
          "state": {
            "_dom_classes": [],
            "_model_module": "@jupyter-widgets/controls",
            "_model_module_version": "1.5.0",
            "_model_name": "FloatProgressModel",
            "_view_count": null,
            "_view_module": "@jupyter-widgets/controls",
            "_view_module_version": "1.5.0",
            "_view_name": "ProgressView",
            "bar_style": "success",
            "description": "",
            "description_tooltip": null,
            "layout": "IPY_MODEL_84898cdfe9f74860a7078df7ffa42e8c",
            "max": 9912422,
            "min": 0,
            "orientation": "horizontal",
            "style": "IPY_MODEL_18eff94c5aad47e5b0a916ee45423f53",
            "value": 9912422
          }
        },
        "3e6eb7b3af5f4ea7bfc2efb088ff872c": {
          "model_module": "@jupyter-widgets/controls",
          "model_name": "HTMLModel",
          "model_module_version": "1.5.0",
          "state": {
            "_dom_classes": [],
            "_model_module": "@jupyter-widgets/controls",
            "_model_module_version": "1.5.0",
            "_model_name": "HTMLModel",
            "_view_count": null,
            "_view_module": "@jupyter-widgets/controls",
            "_view_module_version": "1.5.0",
            "_view_name": "HTMLView",
            "description": "",
            "description_tooltip": null,
            "layout": "IPY_MODEL_89ad10461dd74577a25959af33ee21b0",
            "placeholder": "​",
            "style": "IPY_MODEL_ff44bc32d88749b2a6fa603d28763ad8",
            "value": " 9912422/9912422 [00:00&lt;00:00, 22858118.07it/s]"
          }
        },
        "7b02b763d87d46bc8b2e269af9b368cf": {
          "model_module": "@jupyter-widgets/base",
          "model_name": "LayoutModel",
          "model_module_version": "1.2.0",
          "state": {
            "_model_module": "@jupyter-widgets/base",
            "_model_module_version": "1.2.0",
            "_model_name": "LayoutModel",
            "_view_count": null,
            "_view_module": "@jupyter-widgets/base",
            "_view_module_version": "1.2.0",
            "_view_name": "LayoutView",
            "align_content": null,
            "align_items": null,
            "align_self": null,
            "border": null,
            "bottom": null,
            "display": null,
            "flex": null,
            "flex_flow": null,
            "grid_area": null,
            "grid_auto_columns": null,
            "grid_auto_flow": null,
            "grid_auto_rows": null,
            "grid_column": null,
            "grid_gap": null,
            "grid_row": null,
            "grid_template_areas": null,
            "grid_template_columns": null,
            "grid_template_rows": null,
            "height": null,
            "justify_content": null,
            "justify_items": null,
            "left": null,
            "margin": null,
            "max_height": null,
            "max_width": null,
            "min_height": null,
            "min_width": null,
            "object_fit": null,
            "object_position": null,
            "order": null,
            "overflow": null,
            "overflow_x": null,
            "overflow_y": null,
            "padding": null,
            "right": null,
            "top": null,
            "visibility": null,
            "width": null
          }
        },
        "8c16b66d97004f90a696cc57ba0f8453": {
          "model_module": "@jupyter-widgets/base",
          "model_name": "LayoutModel",
          "model_module_version": "1.2.0",
          "state": {
            "_model_module": "@jupyter-widgets/base",
            "_model_module_version": "1.2.0",
            "_model_name": "LayoutModel",
            "_view_count": null,
            "_view_module": "@jupyter-widgets/base",
            "_view_module_version": "1.2.0",
            "_view_name": "LayoutView",
            "align_content": null,
            "align_items": null,
            "align_self": null,
            "border": null,
            "bottom": null,
            "display": null,
            "flex": null,
            "flex_flow": null,
            "grid_area": null,
            "grid_auto_columns": null,
            "grid_auto_flow": null,
            "grid_auto_rows": null,
            "grid_column": null,
            "grid_gap": null,
            "grid_row": null,
            "grid_template_areas": null,
            "grid_template_columns": null,
            "grid_template_rows": null,
            "height": null,
            "justify_content": null,
            "justify_items": null,
            "left": null,
            "margin": null,
            "max_height": null,
            "max_width": null,
            "min_height": null,
            "min_width": null,
            "object_fit": null,
            "object_position": null,
            "order": null,
            "overflow": null,
            "overflow_x": null,
            "overflow_y": null,
            "padding": null,
            "right": null,
            "top": null,
            "visibility": null,
            "width": null
          }
        },
        "d91f34f5487a4f01bd3d4f0cf2a6a723": {
          "model_module": "@jupyter-widgets/controls",
          "model_name": "DescriptionStyleModel",
          "model_module_version": "1.5.0",
          "state": {
            "_model_module": "@jupyter-widgets/controls",
            "_model_module_version": "1.5.0",
            "_model_name": "DescriptionStyleModel",
            "_view_count": null,
            "_view_module": "@jupyter-widgets/base",
            "_view_module_version": "1.2.0",
            "_view_name": "StyleView",
            "description_width": ""
          }
        },
        "84898cdfe9f74860a7078df7ffa42e8c": {
          "model_module": "@jupyter-widgets/base",
          "model_name": "LayoutModel",
          "model_module_version": "1.2.0",
          "state": {
            "_model_module": "@jupyter-widgets/base",
            "_model_module_version": "1.2.0",
            "_model_name": "LayoutModel",
            "_view_count": null,
            "_view_module": "@jupyter-widgets/base",
            "_view_module_version": "1.2.0",
            "_view_name": "LayoutView",
            "align_content": null,
            "align_items": null,
            "align_self": null,
            "border": null,
            "bottom": null,
            "display": null,
            "flex": null,
            "flex_flow": null,
            "grid_area": null,
            "grid_auto_columns": null,
            "grid_auto_flow": null,
            "grid_auto_rows": null,
            "grid_column": null,
            "grid_gap": null,
            "grid_row": null,
            "grid_template_areas": null,
            "grid_template_columns": null,
            "grid_template_rows": null,
            "height": null,
            "justify_content": null,
            "justify_items": null,
            "left": null,
            "margin": null,
            "max_height": null,
            "max_width": null,
            "min_height": null,
            "min_width": null,
            "object_fit": null,
            "object_position": null,
            "order": null,
            "overflow": null,
            "overflow_x": null,
            "overflow_y": null,
            "padding": null,
            "right": null,
            "top": null,
            "visibility": null,
            "width": null
          }
        },
        "18eff94c5aad47e5b0a916ee45423f53": {
          "model_module": "@jupyter-widgets/controls",
          "model_name": "ProgressStyleModel",
          "model_module_version": "1.5.0",
          "state": {
            "_model_module": "@jupyter-widgets/controls",
            "_model_module_version": "1.5.0",
            "_model_name": "ProgressStyleModel",
            "_view_count": null,
            "_view_module": "@jupyter-widgets/base",
            "_view_module_version": "1.2.0",
            "_view_name": "StyleView",
            "bar_color": null,
            "description_width": ""
          }
        },
        "89ad10461dd74577a25959af33ee21b0": {
          "model_module": "@jupyter-widgets/base",
          "model_name": "LayoutModel",
          "model_module_version": "1.2.0",
          "state": {
            "_model_module": "@jupyter-widgets/base",
            "_model_module_version": "1.2.0",
            "_model_name": "LayoutModel",
            "_view_count": null,
            "_view_module": "@jupyter-widgets/base",
            "_view_module_version": "1.2.0",
            "_view_name": "LayoutView",
            "align_content": null,
            "align_items": null,
            "align_self": null,
            "border": null,
            "bottom": null,
            "display": null,
            "flex": null,
            "flex_flow": null,
            "grid_area": null,
            "grid_auto_columns": null,
            "grid_auto_flow": null,
            "grid_auto_rows": null,
            "grid_column": null,
            "grid_gap": null,
            "grid_row": null,
            "grid_template_areas": null,
            "grid_template_columns": null,
            "grid_template_rows": null,
            "height": null,
            "justify_content": null,
            "justify_items": null,
            "left": null,
            "margin": null,
            "max_height": null,
            "max_width": null,
            "min_height": null,
            "min_width": null,
            "object_fit": null,
            "object_position": null,
            "order": null,
            "overflow": null,
            "overflow_x": null,
            "overflow_y": null,
            "padding": null,
            "right": null,
            "top": null,
            "visibility": null,
            "width": null
          }
        },
        "ff44bc32d88749b2a6fa603d28763ad8": {
          "model_module": "@jupyter-widgets/controls",
          "model_name": "DescriptionStyleModel",
          "model_module_version": "1.5.0",
          "state": {
            "_model_module": "@jupyter-widgets/controls",
            "_model_module_version": "1.5.0",
            "_model_name": "DescriptionStyleModel",
            "_view_count": null,
            "_view_module": "@jupyter-widgets/base",
            "_view_module_version": "1.2.0",
            "_view_name": "StyleView",
            "description_width": ""
          }
        },
        "437f57cbabd440ec8097084d792b74ea": {
          "model_module": "@jupyter-widgets/controls",
          "model_name": "HBoxModel",
          "model_module_version": "1.5.0",
          "state": {
            "_dom_classes": [],
            "_model_module": "@jupyter-widgets/controls",
            "_model_module_version": "1.5.0",
            "_model_name": "HBoxModel",
            "_view_count": null,
            "_view_module": "@jupyter-widgets/controls",
            "_view_module_version": "1.5.0",
            "_view_name": "HBoxView",
            "box_style": "",
            "children": [
              "IPY_MODEL_ca6de7d4bf624dee8b4f5734d978e53a",
              "IPY_MODEL_db4987a17a2047aeba4340948ddfb643",
              "IPY_MODEL_fdf85e89aa5f44698436fe2fffaf81fb"
            ],
            "layout": "IPY_MODEL_8918b1de5316411fa55d87991d59c4e1"
          }
        },
        "ca6de7d4bf624dee8b4f5734d978e53a": {
          "model_module": "@jupyter-widgets/controls",
          "model_name": "HTMLModel",
          "model_module_version": "1.5.0",
          "state": {
            "_dom_classes": [],
            "_model_module": "@jupyter-widgets/controls",
            "_model_module_version": "1.5.0",
            "_model_name": "HTMLModel",
            "_view_count": null,
            "_view_module": "@jupyter-widgets/controls",
            "_view_module_version": "1.5.0",
            "_view_name": "HTMLView",
            "description": "",
            "description_tooltip": null,
            "layout": "IPY_MODEL_0b420b7fa72240d49e6b8525c3ff1207",
            "placeholder": "​",
            "style": "IPY_MODEL_511b06d14c3d4349800c272f0e1212e5",
            "value": "100%"
          }
        },
        "db4987a17a2047aeba4340948ddfb643": {
          "model_module": "@jupyter-widgets/controls",
          "model_name": "FloatProgressModel",
          "model_module_version": "1.5.0",
          "state": {
            "_dom_classes": [],
            "_model_module": "@jupyter-widgets/controls",
            "_model_module_version": "1.5.0",
            "_model_name": "FloatProgressModel",
            "_view_count": null,
            "_view_module": "@jupyter-widgets/controls",
            "_view_module_version": "1.5.0",
            "_view_name": "ProgressView",
            "bar_style": "success",
            "description": "",
            "description_tooltip": null,
            "layout": "IPY_MODEL_f03547aaebce42f9905ce96595bfa579",
            "max": 28881,
            "min": 0,
            "orientation": "horizontal",
            "style": "IPY_MODEL_87319d784e96493a895f0b199cd288ae",
            "value": 28881
          }
        },
        "fdf85e89aa5f44698436fe2fffaf81fb": {
          "model_module": "@jupyter-widgets/controls",
          "model_name": "HTMLModel",
          "model_module_version": "1.5.0",
          "state": {
            "_dom_classes": [],
            "_model_module": "@jupyter-widgets/controls",
            "_model_module_version": "1.5.0",
            "_model_name": "HTMLModel",
            "_view_count": null,
            "_view_module": "@jupyter-widgets/controls",
            "_view_module_version": "1.5.0",
            "_view_name": "HTMLView",
            "description": "",
            "description_tooltip": null,
            "layout": "IPY_MODEL_d562e17bbb77499281e36b772401ed6f",
            "placeholder": "​",
            "style": "IPY_MODEL_6debb643ae144a42b4f05ddd5cff69a0",
            "value": " 28881/28881 [00:00&lt;00:00, 600442.61it/s]"
          }
        },
        "8918b1de5316411fa55d87991d59c4e1": {
          "model_module": "@jupyter-widgets/base",
          "model_name": "LayoutModel",
          "model_module_version": "1.2.0",
          "state": {
            "_model_module": "@jupyter-widgets/base",
            "_model_module_version": "1.2.0",
            "_model_name": "LayoutModel",
            "_view_count": null,
            "_view_module": "@jupyter-widgets/base",
            "_view_module_version": "1.2.0",
            "_view_name": "LayoutView",
            "align_content": null,
            "align_items": null,
            "align_self": null,
            "border": null,
            "bottom": null,
            "display": null,
            "flex": null,
            "flex_flow": null,
            "grid_area": null,
            "grid_auto_columns": null,
            "grid_auto_flow": null,
            "grid_auto_rows": null,
            "grid_column": null,
            "grid_gap": null,
            "grid_row": null,
            "grid_template_areas": null,
            "grid_template_columns": null,
            "grid_template_rows": null,
            "height": null,
            "justify_content": null,
            "justify_items": null,
            "left": null,
            "margin": null,
            "max_height": null,
            "max_width": null,
            "min_height": null,
            "min_width": null,
            "object_fit": null,
            "object_position": null,
            "order": null,
            "overflow": null,
            "overflow_x": null,
            "overflow_y": null,
            "padding": null,
            "right": null,
            "top": null,
            "visibility": null,
            "width": null
          }
        },
        "0b420b7fa72240d49e6b8525c3ff1207": {
          "model_module": "@jupyter-widgets/base",
          "model_name": "LayoutModel",
          "model_module_version": "1.2.0",
          "state": {
            "_model_module": "@jupyter-widgets/base",
            "_model_module_version": "1.2.0",
            "_model_name": "LayoutModel",
            "_view_count": null,
            "_view_module": "@jupyter-widgets/base",
            "_view_module_version": "1.2.0",
            "_view_name": "LayoutView",
            "align_content": null,
            "align_items": null,
            "align_self": null,
            "border": null,
            "bottom": null,
            "display": null,
            "flex": null,
            "flex_flow": null,
            "grid_area": null,
            "grid_auto_columns": null,
            "grid_auto_flow": null,
            "grid_auto_rows": null,
            "grid_column": null,
            "grid_gap": null,
            "grid_row": null,
            "grid_template_areas": null,
            "grid_template_columns": null,
            "grid_template_rows": null,
            "height": null,
            "justify_content": null,
            "justify_items": null,
            "left": null,
            "margin": null,
            "max_height": null,
            "max_width": null,
            "min_height": null,
            "min_width": null,
            "object_fit": null,
            "object_position": null,
            "order": null,
            "overflow": null,
            "overflow_x": null,
            "overflow_y": null,
            "padding": null,
            "right": null,
            "top": null,
            "visibility": null,
            "width": null
          }
        },
        "511b06d14c3d4349800c272f0e1212e5": {
          "model_module": "@jupyter-widgets/controls",
          "model_name": "DescriptionStyleModel",
          "model_module_version": "1.5.0",
          "state": {
            "_model_module": "@jupyter-widgets/controls",
            "_model_module_version": "1.5.0",
            "_model_name": "DescriptionStyleModel",
            "_view_count": null,
            "_view_module": "@jupyter-widgets/base",
            "_view_module_version": "1.2.0",
            "_view_name": "StyleView",
            "description_width": ""
          }
        },
        "f03547aaebce42f9905ce96595bfa579": {
          "model_module": "@jupyter-widgets/base",
          "model_name": "LayoutModel",
          "model_module_version": "1.2.0",
          "state": {
            "_model_module": "@jupyter-widgets/base",
            "_model_module_version": "1.2.0",
            "_model_name": "LayoutModel",
            "_view_count": null,
            "_view_module": "@jupyter-widgets/base",
            "_view_module_version": "1.2.0",
            "_view_name": "LayoutView",
            "align_content": null,
            "align_items": null,
            "align_self": null,
            "border": null,
            "bottom": null,
            "display": null,
            "flex": null,
            "flex_flow": null,
            "grid_area": null,
            "grid_auto_columns": null,
            "grid_auto_flow": null,
            "grid_auto_rows": null,
            "grid_column": null,
            "grid_gap": null,
            "grid_row": null,
            "grid_template_areas": null,
            "grid_template_columns": null,
            "grid_template_rows": null,
            "height": null,
            "justify_content": null,
            "justify_items": null,
            "left": null,
            "margin": null,
            "max_height": null,
            "max_width": null,
            "min_height": null,
            "min_width": null,
            "object_fit": null,
            "object_position": null,
            "order": null,
            "overflow": null,
            "overflow_x": null,
            "overflow_y": null,
            "padding": null,
            "right": null,
            "top": null,
            "visibility": null,
            "width": null
          }
        },
        "87319d784e96493a895f0b199cd288ae": {
          "model_module": "@jupyter-widgets/controls",
          "model_name": "ProgressStyleModel",
          "model_module_version": "1.5.0",
          "state": {
            "_model_module": "@jupyter-widgets/controls",
            "_model_module_version": "1.5.0",
            "_model_name": "ProgressStyleModel",
            "_view_count": null,
            "_view_module": "@jupyter-widgets/base",
            "_view_module_version": "1.2.0",
            "_view_name": "StyleView",
            "bar_color": null,
            "description_width": ""
          }
        },
        "d562e17bbb77499281e36b772401ed6f": {
          "model_module": "@jupyter-widgets/base",
          "model_name": "LayoutModel",
          "model_module_version": "1.2.0",
          "state": {
            "_model_module": "@jupyter-widgets/base",
            "_model_module_version": "1.2.0",
            "_model_name": "LayoutModel",
            "_view_count": null,
            "_view_module": "@jupyter-widgets/base",
            "_view_module_version": "1.2.0",
            "_view_name": "LayoutView",
            "align_content": null,
            "align_items": null,
            "align_self": null,
            "border": null,
            "bottom": null,
            "display": null,
            "flex": null,
            "flex_flow": null,
            "grid_area": null,
            "grid_auto_columns": null,
            "grid_auto_flow": null,
            "grid_auto_rows": null,
            "grid_column": null,
            "grid_gap": null,
            "grid_row": null,
            "grid_template_areas": null,
            "grid_template_columns": null,
            "grid_template_rows": null,
            "height": null,
            "justify_content": null,
            "justify_items": null,
            "left": null,
            "margin": null,
            "max_height": null,
            "max_width": null,
            "min_height": null,
            "min_width": null,
            "object_fit": null,
            "object_position": null,
            "order": null,
            "overflow": null,
            "overflow_x": null,
            "overflow_y": null,
            "padding": null,
            "right": null,
            "top": null,
            "visibility": null,
            "width": null
          }
        },
        "6debb643ae144a42b4f05ddd5cff69a0": {
          "model_module": "@jupyter-widgets/controls",
          "model_name": "DescriptionStyleModel",
          "model_module_version": "1.5.0",
          "state": {
            "_model_module": "@jupyter-widgets/controls",
            "_model_module_version": "1.5.0",
            "_model_name": "DescriptionStyleModel",
            "_view_count": null,
            "_view_module": "@jupyter-widgets/base",
            "_view_module_version": "1.2.0",
            "_view_name": "StyleView",
            "description_width": ""
          }
        },
        "3c8650fa9fe84b839b83292f6deb13d4": {
          "model_module": "@jupyter-widgets/controls",
          "model_name": "HBoxModel",
          "model_module_version": "1.5.0",
          "state": {
            "_dom_classes": [],
            "_model_module": "@jupyter-widgets/controls",
            "_model_module_version": "1.5.0",
            "_model_name": "HBoxModel",
            "_view_count": null,
            "_view_module": "@jupyter-widgets/controls",
            "_view_module_version": "1.5.0",
            "_view_name": "HBoxView",
            "box_style": "",
            "children": [
              "IPY_MODEL_1413190302144591acf3c6e3db797fcd",
              "IPY_MODEL_9cfeb1c6f79244d982b0a8005d122ded",
              "IPY_MODEL_0e68a8934bd9482bac57134291d68de4"
            ],
            "layout": "IPY_MODEL_af1cd97eb5b24e4a9248e0a9e1134395"
          }
        },
        "1413190302144591acf3c6e3db797fcd": {
          "model_module": "@jupyter-widgets/controls",
          "model_name": "HTMLModel",
          "model_module_version": "1.5.0",
          "state": {
            "_dom_classes": [],
            "_model_module": "@jupyter-widgets/controls",
            "_model_module_version": "1.5.0",
            "_model_name": "HTMLModel",
            "_view_count": null,
            "_view_module": "@jupyter-widgets/controls",
            "_view_module_version": "1.5.0",
            "_view_name": "HTMLView",
            "description": "",
            "description_tooltip": null,
            "layout": "IPY_MODEL_f41f9868342243da9d6caa8f73de1d7f",
            "placeholder": "​",
            "style": "IPY_MODEL_cbeffac7e9484e3f9a5be34cc7902b4d",
            "value": "100%"
          }
        },
        "9cfeb1c6f79244d982b0a8005d122ded": {
          "model_module": "@jupyter-widgets/controls",
          "model_name": "FloatProgressModel",
          "model_module_version": "1.5.0",
          "state": {
            "_dom_classes": [],
            "_model_module": "@jupyter-widgets/controls",
            "_model_module_version": "1.5.0",
            "_model_name": "FloatProgressModel",
            "_view_count": null,
            "_view_module": "@jupyter-widgets/controls",
            "_view_module_version": "1.5.0",
            "_view_name": "ProgressView",
            "bar_style": "success",
            "description": "",
            "description_tooltip": null,
            "layout": "IPY_MODEL_a6312a27efff4a67b65ab234af80a87d",
            "max": 1648877,
            "min": 0,
            "orientation": "horizontal",
            "style": "IPY_MODEL_156ac55e040744af8eb36c6aa427ec2b",
            "value": 1648877
          }
        },
        "0e68a8934bd9482bac57134291d68de4": {
          "model_module": "@jupyter-widgets/controls",
          "model_name": "HTMLModel",
          "model_module_version": "1.5.0",
          "state": {
            "_dom_classes": [],
            "_model_module": "@jupyter-widgets/controls",
            "_model_module_version": "1.5.0",
            "_model_name": "HTMLModel",
            "_view_count": null,
            "_view_module": "@jupyter-widgets/controls",
            "_view_module_version": "1.5.0",
            "_view_name": "HTMLView",
            "description": "",
            "description_tooltip": null,
            "layout": "IPY_MODEL_62ee3c96c86440b9adbbcc867ca51b67",
            "placeholder": "​",
            "style": "IPY_MODEL_af5a2e72b9ec490398e6c40cd448b625",
            "value": " 1648877/1648877 [00:00&lt;00:00, 13677744.80it/s]"
          }
        },
        "af1cd97eb5b24e4a9248e0a9e1134395": {
          "model_module": "@jupyter-widgets/base",
          "model_name": "LayoutModel",
          "model_module_version": "1.2.0",
          "state": {
            "_model_module": "@jupyter-widgets/base",
            "_model_module_version": "1.2.0",
            "_model_name": "LayoutModel",
            "_view_count": null,
            "_view_module": "@jupyter-widgets/base",
            "_view_module_version": "1.2.0",
            "_view_name": "LayoutView",
            "align_content": null,
            "align_items": null,
            "align_self": null,
            "border": null,
            "bottom": null,
            "display": null,
            "flex": null,
            "flex_flow": null,
            "grid_area": null,
            "grid_auto_columns": null,
            "grid_auto_flow": null,
            "grid_auto_rows": null,
            "grid_column": null,
            "grid_gap": null,
            "grid_row": null,
            "grid_template_areas": null,
            "grid_template_columns": null,
            "grid_template_rows": null,
            "height": null,
            "justify_content": null,
            "justify_items": null,
            "left": null,
            "margin": null,
            "max_height": null,
            "max_width": null,
            "min_height": null,
            "min_width": null,
            "object_fit": null,
            "object_position": null,
            "order": null,
            "overflow": null,
            "overflow_x": null,
            "overflow_y": null,
            "padding": null,
            "right": null,
            "top": null,
            "visibility": null,
            "width": null
          }
        },
        "f41f9868342243da9d6caa8f73de1d7f": {
          "model_module": "@jupyter-widgets/base",
          "model_name": "LayoutModel",
          "model_module_version": "1.2.0",
          "state": {
            "_model_module": "@jupyter-widgets/base",
            "_model_module_version": "1.2.0",
            "_model_name": "LayoutModel",
            "_view_count": null,
            "_view_module": "@jupyter-widgets/base",
            "_view_module_version": "1.2.0",
            "_view_name": "LayoutView",
            "align_content": null,
            "align_items": null,
            "align_self": null,
            "border": null,
            "bottom": null,
            "display": null,
            "flex": null,
            "flex_flow": null,
            "grid_area": null,
            "grid_auto_columns": null,
            "grid_auto_flow": null,
            "grid_auto_rows": null,
            "grid_column": null,
            "grid_gap": null,
            "grid_row": null,
            "grid_template_areas": null,
            "grid_template_columns": null,
            "grid_template_rows": null,
            "height": null,
            "justify_content": null,
            "justify_items": null,
            "left": null,
            "margin": null,
            "max_height": null,
            "max_width": null,
            "min_height": null,
            "min_width": null,
            "object_fit": null,
            "object_position": null,
            "order": null,
            "overflow": null,
            "overflow_x": null,
            "overflow_y": null,
            "padding": null,
            "right": null,
            "top": null,
            "visibility": null,
            "width": null
          }
        },
        "cbeffac7e9484e3f9a5be34cc7902b4d": {
          "model_module": "@jupyter-widgets/controls",
          "model_name": "DescriptionStyleModel",
          "model_module_version": "1.5.0",
          "state": {
            "_model_module": "@jupyter-widgets/controls",
            "_model_module_version": "1.5.0",
            "_model_name": "DescriptionStyleModel",
            "_view_count": null,
            "_view_module": "@jupyter-widgets/base",
            "_view_module_version": "1.2.0",
            "_view_name": "StyleView",
            "description_width": ""
          }
        },
        "a6312a27efff4a67b65ab234af80a87d": {
          "model_module": "@jupyter-widgets/base",
          "model_name": "LayoutModel",
          "model_module_version": "1.2.0",
          "state": {
            "_model_module": "@jupyter-widgets/base",
            "_model_module_version": "1.2.0",
            "_model_name": "LayoutModel",
            "_view_count": null,
            "_view_module": "@jupyter-widgets/base",
            "_view_module_version": "1.2.0",
            "_view_name": "LayoutView",
            "align_content": null,
            "align_items": null,
            "align_self": null,
            "border": null,
            "bottom": null,
            "display": null,
            "flex": null,
            "flex_flow": null,
            "grid_area": null,
            "grid_auto_columns": null,
            "grid_auto_flow": null,
            "grid_auto_rows": null,
            "grid_column": null,
            "grid_gap": null,
            "grid_row": null,
            "grid_template_areas": null,
            "grid_template_columns": null,
            "grid_template_rows": null,
            "height": null,
            "justify_content": null,
            "justify_items": null,
            "left": null,
            "margin": null,
            "max_height": null,
            "max_width": null,
            "min_height": null,
            "min_width": null,
            "object_fit": null,
            "object_position": null,
            "order": null,
            "overflow": null,
            "overflow_x": null,
            "overflow_y": null,
            "padding": null,
            "right": null,
            "top": null,
            "visibility": null,
            "width": null
          }
        },
        "156ac55e040744af8eb36c6aa427ec2b": {
          "model_module": "@jupyter-widgets/controls",
          "model_name": "ProgressStyleModel",
          "model_module_version": "1.5.0",
          "state": {
            "_model_module": "@jupyter-widgets/controls",
            "_model_module_version": "1.5.0",
            "_model_name": "ProgressStyleModel",
            "_view_count": null,
            "_view_module": "@jupyter-widgets/base",
            "_view_module_version": "1.2.0",
            "_view_name": "StyleView",
            "bar_color": null,
            "description_width": ""
          }
        },
        "62ee3c96c86440b9adbbcc867ca51b67": {
          "model_module": "@jupyter-widgets/base",
          "model_name": "LayoutModel",
          "model_module_version": "1.2.0",
          "state": {
            "_model_module": "@jupyter-widgets/base",
            "_model_module_version": "1.2.0",
            "_model_name": "LayoutModel",
            "_view_count": null,
            "_view_module": "@jupyter-widgets/base",
            "_view_module_version": "1.2.0",
            "_view_name": "LayoutView",
            "align_content": null,
            "align_items": null,
            "align_self": null,
            "border": null,
            "bottom": null,
            "display": null,
            "flex": null,
            "flex_flow": null,
            "grid_area": null,
            "grid_auto_columns": null,
            "grid_auto_flow": null,
            "grid_auto_rows": null,
            "grid_column": null,
            "grid_gap": null,
            "grid_row": null,
            "grid_template_areas": null,
            "grid_template_columns": null,
            "grid_template_rows": null,
            "height": null,
            "justify_content": null,
            "justify_items": null,
            "left": null,
            "margin": null,
            "max_height": null,
            "max_width": null,
            "min_height": null,
            "min_width": null,
            "object_fit": null,
            "object_position": null,
            "order": null,
            "overflow": null,
            "overflow_x": null,
            "overflow_y": null,
            "padding": null,
            "right": null,
            "top": null,
            "visibility": null,
            "width": null
          }
        },
        "af5a2e72b9ec490398e6c40cd448b625": {
          "model_module": "@jupyter-widgets/controls",
          "model_name": "DescriptionStyleModel",
          "model_module_version": "1.5.0",
          "state": {
            "_model_module": "@jupyter-widgets/controls",
            "_model_module_version": "1.5.0",
            "_model_name": "DescriptionStyleModel",
            "_view_count": null,
            "_view_module": "@jupyter-widgets/base",
            "_view_module_version": "1.2.0",
            "_view_name": "StyleView",
            "description_width": ""
          }
        },
        "e84f7040a6da42ac8ef46e658f5f0626": {
          "model_module": "@jupyter-widgets/controls",
          "model_name": "HBoxModel",
          "model_module_version": "1.5.0",
          "state": {
            "_dom_classes": [],
            "_model_module": "@jupyter-widgets/controls",
            "_model_module_version": "1.5.0",
            "_model_name": "HBoxModel",
            "_view_count": null,
            "_view_module": "@jupyter-widgets/controls",
            "_view_module_version": "1.5.0",
            "_view_name": "HBoxView",
            "box_style": "",
            "children": [
              "IPY_MODEL_9fe4c47c240542a19d9af77d9e345fa0",
              "IPY_MODEL_509bf9dc3efa4bf68a020ddafe8f7373",
              "IPY_MODEL_c54769af28074055919e39ed67614501"
            ],
            "layout": "IPY_MODEL_48218f5ab88b4caa8e169a7c3f2fa4ff"
          }
        },
        "9fe4c47c240542a19d9af77d9e345fa0": {
          "model_module": "@jupyter-widgets/controls",
          "model_name": "HTMLModel",
          "model_module_version": "1.5.0",
          "state": {
            "_dom_classes": [],
            "_model_module": "@jupyter-widgets/controls",
            "_model_module_version": "1.5.0",
            "_model_name": "HTMLModel",
            "_view_count": null,
            "_view_module": "@jupyter-widgets/controls",
            "_view_module_version": "1.5.0",
            "_view_name": "HTMLView",
            "description": "",
            "description_tooltip": null,
            "layout": "IPY_MODEL_6391ee48d46a4aa7aa5728268ea0bf69",
            "placeholder": "​",
            "style": "IPY_MODEL_22ebdc0f8ee14675bdc205d437bfa867",
            "value": "100%"
          }
        },
        "509bf9dc3efa4bf68a020ddafe8f7373": {
          "model_module": "@jupyter-widgets/controls",
          "model_name": "FloatProgressModel",
          "model_module_version": "1.5.0",
          "state": {
            "_dom_classes": [],
            "_model_module": "@jupyter-widgets/controls",
            "_model_module_version": "1.5.0",
            "_model_name": "FloatProgressModel",
            "_view_count": null,
            "_view_module": "@jupyter-widgets/controls",
            "_view_module_version": "1.5.0",
            "_view_name": "ProgressView",
            "bar_style": "success",
            "description": "",
            "description_tooltip": null,
            "layout": "IPY_MODEL_2e3686ee219247ada8ebcd0c91e2c0da",
            "max": 4542,
            "min": 0,
            "orientation": "horizontal",
            "style": "IPY_MODEL_5b5b2059566c4406bd577d8c964c6065",
            "value": 4542
          }
        },
        "c54769af28074055919e39ed67614501": {
          "model_module": "@jupyter-widgets/controls",
          "model_name": "HTMLModel",
          "model_module_version": "1.5.0",
          "state": {
            "_dom_classes": [],
            "_model_module": "@jupyter-widgets/controls",
            "_model_module_version": "1.5.0",
            "_model_name": "HTMLModel",
            "_view_count": null,
            "_view_module": "@jupyter-widgets/controls",
            "_view_module_version": "1.5.0",
            "_view_name": "HTMLView",
            "description": "",
            "description_tooltip": null,
            "layout": "IPY_MODEL_ceacdaddef9249f3920de7b2d4e4bc9f",
            "placeholder": "​",
            "style": "IPY_MODEL_0c6d9d01ae3f4c6590bb8924f49d9f39",
            "value": " 4542/4542 [00:00&lt;00:00, 112673.02it/s]"
          }
        },
        "48218f5ab88b4caa8e169a7c3f2fa4ff": {
          "model_module": "@jupyter-widgets/base",
          "model_name": "LayoutModel",
          "model_module_version": "1.2.0",
          "state": {
            "_model_module": "@jupyter-widgets/base",
            "_model_module_version": "1.2.0",
            "_model_name": "LayoutModel",
            "_view_count": null,
            "_view_module": "@jupyter-widgets/base",
            "_view_module_version": "1.2.0",
            "_view_name": "LayoutView",
            "align_content": null,
            "align_items": null,
            "align_self": null,
            "border": null,
            "bottom": null,
            "display": null,
            "flex": null,
            "flex_flow": null,
            "grid_area": null,
            "grid_auto_columns": null,
            "grid_auto_flow": null,
            "grid_auto_rows": null,
            "grid_column": null,
            "grid_gap": null,
            "grid_row": null,
            "grid_template_areas": null,
            "grid_template_columns": null,
            "grid_template_rows": null,
            "height": null,
            "justify_content": null,
            "justify_items": null,
            "left": null,
            "margin": null,
            "max_height": null,
            "max_width": null,
            "min_height": null,
            "min_width": null,
            "object_fit": null,
            "object_position": null,
            "order": null,
            "overflow": null,
            "overflow_x": null,
            "overflow_y": null,
            "padding": null,
            "right": null,
            "top": null,
            "visibility": null,
            "width": null
          }
        },
        "6391ee48d46a4aa7aa5728268ea0bf69": {
          "model_module": "@jupyter-widgets/base",
          "model_name": "LayoutModel",
          "model_module_version": "1.2.0",
          "state": {
            "_model_module": "@jupyter-widgets/base",
            "_model_module_version": "1.2.0",
            "_model_name": "LayoutModel",
            "_view_count": null,
            "_view_module": "@jupyter-widgets/base",
            "_view_module_version": "1.2.0",
            "_view_name": "LayoutView",
            "align_content": null,
            "align_items": null,
            "align_self": null,
            "border": null,
            "bottom": null,
            "display": null,
            "flex": null,
            "flex_flow": null,
            "grid_area": null,
            "grid_auto_columns": null,
            "grid_auto_flow": null,
            "grid_auto_rows": null,
            "grid_column": null,
            "grid_gap": null,
            "grid_row": null,
            "grid_template_areas": null,
            "grid_template_columns": null,
            "grid_template_rows": null,
            "height": null,
            "justify_content": null,
            "justify_items": null,
            "left": null,
            "margin": null,
            "max_height": null,
            "max_width": null,
            "min_height": null,
            "min_width": null,
            "object_fit": null,
            "object_position": null,
            "order": null,
            "overflow": null,
            "overflow_x": null,
            "overflow_y": null,
            "padding": null,
            "right": null,
            "top": null,
            "visibility": null,
            "width": null
          }
        },
        "22ebdc0f8ee14675bdc205d437bfa867": {
          "model_module": "@jupyter-widgets/controls",
          "model_name": "DescriptionStyleModel",
          "model_module_version": "1.5.0",
          "state": {
            "_model_module": "@jupyter-widgets/controls",
            "_model_module_version": "1.5.0",
            "_model_name": "DescriptionStyleModel",
            "_view_count": null,
            "_view_module": "@jupyter-widgets/base",
            "_view_module_version": "1.2.0",
            "_view_name": "StyleView",
            "description_width": ""
          }
        },
        "2e3686ee219247ada8ebcd0c91e2c0da": {
          "model_module": "@jupyter-widgets/base",
          "model_name": "LayoutModel",
          "model_module_version": "1.2.0",
          "state": {
            "_model_module": "@jupyter-widgets/base",
            "_model_module_version": "1.2.0",
            "_model_name": "LayoutModel",
            "_view_count": null,
            "_view_module": "@jupyter-widgets/base",
            "_view_module_version": "1.2.0",
            "_view_name": "LayoutView",
            "align_content": null,
            "align_items": null,
            "align_self": null,
            "border": null,
            "bottom": null,
            "display": null,
            "flex": null,
            "flex_flow": null,
            "grid_area": null,
            "grid_auto_columns": null,
            "grid_auto_flow": null,
            "grid_auto_rows": null,
            "grid_column": null,
            "grid_gap": null,
            "grid_row": null,
            "grid_template_areas": null,
            "grid_template_columns": null,
            "grid_template_rows": null,
            "height": null,
            "justify_content": null,
            "justify_items": null,
            "left": null,
            "margin": null,
            "max_height": null,
            "max_width": null,
            "min_height": null,
            "min_width": null,
            "object_fit": null,
            "object_position": null,
            "order": null,
            "overflow": null,
            "overflow_x": null,
            "overflow_y": null,
            "padding": null,
            "right": null,
            "top": null,
            "visibility": null,
            "width": null
          }
        },
        "5b5b2059566c4406bd577d8c964c6065": {
          "model_module": "@jupyter-widgets/controls",
          "model_name": "ProgressStyleModel",
          "model_module_version": "1.5.0",
          "state": {
            "_model_module": "@jupyter-widgets/controls",
            "_model_module_version": "1.5.0",
            "_model_name": "ProgressStyleModel",
            "_view_count": null,
            "_view_module": "@jupyter-widgets/base",
            "_view_module_version": "1.2.0",
            "_view_name": "StyleView",
            "bar_color": null,
            "description_width": ""
          }
        },
        "ceacdaddef9249f3920de7b2d4e4bc9f": {
          "model_module": "@jupyter-widgets/base",
          "model_name": "LayoutModel",
          "model_module_version": "1.2.0",
          "state": {
            "_model_module": "@jupyter-widgets/base",
            "_model_module_version": "1.2.0",
            "_model_name": "LayoutModel",
            "_view_count": null,
            "_view_module": "@jupyter-widgets/base",
            "_view_module_version": "1.2.0",
            "_view_name": "LayoutView",
            "align_content": null,
            "align_items": null,
            "align_self": null,
            "border": null,
            "bottom": null,
            "display": null,
            "flex": null,
            "flex_flow": null,
            "grid_area": null,
            "grid_auto_columns": null,
            "grid_auto_flow": null,
            "grid_auto_rows": null,
            "grid_column": null,
            "grid_gap": null,
            "grid_row": null,
            "grid_template_areas": null,
            "grid_template_columns": null,
            "grid_template_rows": null,
            "height": null,
            "justify_content": null,
            "justify_items": null,
            "left": null,
            "margin": null,
            "max_height": null,
            "max_width": null,
            "min_height": null,
            "min_width": null,
            "object_fit": null,
            "object_position": null,
            "order": null,
            "overflow": null,
            "overflow_x": null,
            "overflow_y": null,
            "padding": null,
            "right": null,
            "top": null,
            "visibility": null,
            "width": null
          }
        },
        "0c6d9d01ae3f4c6590bb8924f49d9f39": {
          "model_module": "@jupyter-widgets/controls",
          "model_name": "DescriptionStyleModel",
          "model_module_version": "1.5.0",
          "state": {
            "_model_module": "@jupyter-widgets/controls",
            "_model_module_version": "1.5.0",
            "_model_name": "DescriptionStyleModel",
            "_view_count": null,
            "_view_module": "@jupyter-widgets/base",
            "_view_module_version": "1.2.0",
            "_view_name": "StyleView",
            "description_width": ""
          }
        }
      }
    }
  },
  "cells": [
    {
      "cell_type": "code",
      "source": [
        "# Imports\n",
        "import torch\n",
        "import torchvision\n",
        "# It contains some utilities for working with image data. It also contains some famous datasets.\n",
        "from torchvision.datasets import MNIST # imported MNIST class"
      ],
      "metadata": {
        "id": "p3NB312twndX"
      },
      "execution_count": null,
      "outputs": []
    },
    {
      "cell_type": "code",
      "source": [
        "# Download training dataset\n",
        "dataset = MNIST(root='data/', download=True)\n",
        "# we need to download the training ds, for this we are using MNIST class as a constructor within which we're passing root as the directory where the data will be downloaded\n",
        "# The data will downloaded under the directory name called 'data'. we've set the download to true to tell if dataset is not present, then download the data.\n",
        "# the dataset is automatically converted into pytorch dataset object"
      ],
      "metadata": {
        "colab": {
          "base_uri": "https://localhost:8080/",
          "height": 423,
          "referenced_widgets": [
            "d9bc0a27829a4d729020a38955fabb12",
            "e60e1d6039d240d9abaae505f85a3108",
            "5d4641a6df48421aaa8e5dbdf083d17b",
            "3e6eb7b3af5f4ea7bfc2efb088ff872c",
            "7b02b763d87d46bc8b2e269af9b368cf",
            "8c16b66d97004f90a696cc57ba0f8453",
            "d91f34f5487a4f01bd3d4f0cf2a6a723",
            "84898cdfe9f74860a7078df7ffa42e8c",
            "18eff94c5aad47e5b0a916ee45423f53",
            "89ad10461dd74577a25959af33ee21b0",
            "ff44bc32d88749b2a6fa603d28763ad8",
            "437f57cbabd440ec8097084d792b74ea",
            "ca6de7d4bf624dee8b4f5734d978e53a",
            "db4987a17a2047aeba4340948ddfb643",
            "fdf85e89aa5f44698436fe2fffaf81fb",
            "8918b1de5316411fa55d87991d59c4e1",
            "0b420b7fa72240d49e6b8525c3ff1207",
            "511b06d14c3d4349800c272f0e1212e5",
            "f03547aaebce42f9905ce96595bfa579",
            "87319d784e96493a895f0b199cd288ae",
            "d562e17bbb77499281e36b772401ed6f",
            "6debb643ae144a42b4f05ddd5cff69a0",
            "3c8650fa9fe84b839b83292f6deb13d4",
            "1413190302144591acf3c6e3db797fcd",
            "9cfeb1c6f79244d982b0a8005d122ded",
            "0e68a8934bd9482bac57134291d68de4",
            "af1cd97eb5b24e4a9248e0a9e1134395",
            "f41f9868342243da9d6caa8f73de1d7f",
            "cbeffac7e9484e3f9a5be34cc7902b4d",
            "a6312a27efff4a67b65ab234af80a87d",
            "156ac55e040744af8eb36c6aa427ec2b",
            "62ee3c96c86440b9adbbcc867ca51b67",
            "af5a2e72b9ec490398e6c40cd448b625",
            "e84f7040a6da42ac8ef46e658f5f0626",
            "9fe4c47c240542a19d9af77d9e345fa0",
            "509bf9dc3efa4bf68a020ddafe8f7373",
            "c54769af28074055919e39ed67614501",
            "48218f5ab88b4caa8e169a7c3f2fa4ff",
            "6391ee48d46a4aa7aa5728268ea0bf69",
            "22ebdc0f8ee14675bdc205d437bfa867",
            "2e3686ee219247ada8ebcd0c91e2c0da",
            "5b5b2059566c4406bd577d8c964c6065",
            "ceacdaddef9249f3920de7b2d4e4bc9f",
            "0c6d9d01ae3f4c6590bb8924f49d9f39"
          ]
        },
        "id": "99xC4B3tZpe4",
        "outputId": "99caca29-8d7f-4503-8727-c6a1b9788acd"
      },
      "execution_count": null,
      "outputs": [
        {
          "output_type": "stream",
          "name": "stdout",
          "text": [
            "Downloading http://yann.lecun.com/exdb/mnist/train-images-idx3-ubyte.gz\n",
            "Downloading http://yann.lecun.com/exdb/mnist/train-images-idx3-ubyte.gz to data/MNIST/raw/train-images-idx3-ubyte.gz\n"
          ]
        },
        {
          "output_type": "display_data",
          "data": {
            "text/plain": [
              "  0%|          | 0/9912422 [00:00<?, ?it/s]"
            ],
            "application/vnd.jupyter.widget-view+json": {
              "version_major": 2,
              "version_minor": 0,
              "model_id": "d9bc0a27829a4d729020a38955fabb12"
            }
          },
          "metadata": {}
        },
        {
          "output_type": "stream",
          "name": "stdout",
          "text": [
            "Extracting data/MNIST/raw/train-images-idx3-ubyte.gz to data/MNIST/raw\n",
            "\n",
            "Downloading http://yann.lecun.com/exdb/mnist/train-labels-idx1-ubyte.gz\n",
            "Downloading http://yann.lecun.com/exdb/mnist/train-labels-idx1-ubyte.gz to data/MNIST/raw/train-labels-idx1-ubyte.gz\n"
          ]
        },
        {
          "output_type": "display_data",
          "data": {
            "text/plain": [
              "  0%|          | 0/28881 [00:00<?, ?it/s]"
            ],
            "application/vnd.jupyter.widget-view+json": {
              "version_major": 2,
              "version_minor": 0,
              "model_id": "437f57cbabd440ec8097084d792b74ea"
            }
          },
          "metadata": {}
        },
        {
          "output_type": "stream",
          "name": "stdout",
          "text": [
            "Extracting data/MNIST/raw/train-labels-idx1-ubyte.gz to data/MNIST/raw\n",
            "\n",
            "Downloading http://yann.lecun.com/exdb/mnist/t10k-images-idx3-ubyte.gz\n",
            "Downloading http://yann.lecun.com/exdb/mnist/t10k-images-idx3-ubyte.gz to data/MNIST/raw/t10k-images-idx3-ubyte.gz\n"
          ]
        },
        {
          "output_type": "display_data",
          "data": {
            "text/plain": [
              "  0%|          | 0/1648877 [00:00<?, ?it/s]"
            ],
            "application/vnd.jupyter.widget-view+json": {
              "version_major": 2,
              "version_minor": 0,
              "model_id": "3c8650fa9fe84b839b83292f6deb13d4"
            }
          },
          "metadata": {}
        },
        {
          "output_type": "stream",
          "name": "stdout",
          "text": [
            "Extracting data/MNIST/raw/t10k-images-idx3-ubyte.gz to data/MNIST/raw\n",
            "\n",
            "Downloading http://yann.lecun.com/exdb/mnist/t10k-labels-idx1-ubyte.gz\n",
            "Downloading http://yann.lecun.com/exdb/mnist/t10k-labels-idx1-ubyte.gz to data/MNIST/raw/t10k-labels-idx1-ubyte.gz\n"
          ]
        },
        {
          "output_type": "display_data",
          "data": {
            "text/plain": [
              "  0%|          | 0/4542 [00:00<?, ?it/s]"
            ],
            "application/vnd.jupyter.widget-view+json": {
              "version_major": 2,
              "version_minor": 0,
              "model_id": "e84f7040a6da42ac8ef46e658f5f0626"
            }
          },
          "metadata": {}
        },
        {
          "output_type": "stream",
          "name": "stdout",
          "text": [
            "Extracting data/MNIST/raw/t10k-labels-idx1-ubyte.gz to data/MNIST/raw\n",
            "\n"
          ]
        }
      ]
    },
    {
      "cell_type": "code",
      "source": [
        "len(dataset)"
      ],
      "metadata": {
        "colab": {
          "base_uri": "https://localhost:8080/"
        },
        "id": "cy7tLg5LZrtk",
        "outputId": "777b7004-a11a-433a-a66d-fffde4c6e413"
      },
      "execution_count": null,
      "outputs": [
        {
          "output_type": "execute_result",
          "data": {
            "text/plain": [
              "60000"
            ]
          },
          "metadata": {},
          "execution_count": 3
        }
      ]
    },
    {
      "cell_type": "code",
      "source": [
        "test_dataset = MNIST(root='data/', train=False)\n",
        "len(test_dataset)\n",
        "# sim. we've downloaded the test set, by passing train to false. it tells mnist to download the test set instead of training set"
      ],
      "metadata": {
        "colab": {
          "base_uri": "https://localhost:8080/"
        },
        "id": "9u3OjUGxZtm_",
        "outputId": "094ebac8-6739-4778-f95f-610f0e8b5e56"
      },
      "execution_count": null,
      "outputs": [
        {
          "output_type": "execute_result",
          "data": {
            "text/plain": [
              "10000"
            ]
          },
          "metadata": {},
          "execution_count": 4
        }
      ]
    },
    {
      "cell_type": "code",
      "source": [
        "dataset[0]\n",
        "# it is a sample element from the training set. It is a pair, it consists of 2 things. first is the image it is an object of PIL.image.image class, it is a part of \n",
        "# python imaging library called pillow. it reads the file which is the format of jpd or png and converts it into an object which can be used in python.\n",
        "# second it contains the label of the image i.e what it contains."
      ],
      "metadata": {
        "colab": {
          "base_uri": "https://localhost:8080/"
        },
        "id": "Pd5Cx32FZxFU",
        "outputId": "1d8d0c96-9c7f-496a-9c3e-2ed772a15e81"
      },
      "execution_count": null,
      "outputs": [
        {
          "output_type": "execute_result",
          "data": {
            "text/plain": [
              "(<PIL.Image.Image image mode=L size=28x28 at 0x7FD368FC1190>, 5)"
            ]
          },
          "metadata": {},
          "execution_count": 5
        }
      ]
    },
    {
      "cell_type": "code",
      "source": [
        "#Lets look at some images, for which we're importing matplotlib particularly pyplot.\n",
        "import matplotlib.pyplot as plt\n",
        "%matplotlib inline\n"
      ],
      "metadata": {
        "id": "HrEHPCVaZznz"
      },
      "execution_count": null,
      "outputs": []
    },
    {
      "cell_type": "code",
      "source": [
        "image, label = dataset[0]\n",
        "plt.imshow(image, cmap='gray')\n",
        "# imshow is used to display images ans we're setting cmap(colour map) to gray as these images are b&w\n",
        "print('Label:', label)"
      ],
      "metadata": {
        "colab": {
          "base_uri": "https://localhost:8080/",
          "height": 282
        },
        "id": "c51mOIj0Z1nz",
        "outputId": "afcdcea0-091f-443e-cc47-5a66f4d54493"
      },
      "execution_count": null,
      "outputs": [
        {
          "output_type": "stream",
          "name": "stdout",
          "text": [
            "Label: 5\n"
          ]
        },
        {
          "output_type": "display_data",
          "data": {
            "text/plain": [
              "<Figure size 432x288 with 1 Axes>"
            ],
            "image/png": "[encoded data removed]"
          },
          "metadata": {
            "needs_background": "light"
          }
        }
      ]
    },
    {
      "cell_type": "code",
      "source": [
        "image, label = dataset[10]\n",
        "plt.imshow(image, cmap='gray')\n",
        "print('Label:', label)"
      ],
      "metadata": {
        "colab": {
          "base_uri": "https://localhost:8080/",
          "height": 282
        },
        "id": "c8ENdZ4lZ3Vs",
        "outputId": "fbd733eb-5934-4a51-823a-87fd0b713848"
      },
      "execution_count": null,
      "outputs": [
        {
          "output_type": "stream",
          "name": "stdout",
          "text": [
            "Label: 3\n"
          ]
        },
        {
          "output_type": "display_data",
          "data": {
            "text/plain": [
              "<Figure size 432x288 with 1 Axes>"
            ],
            "image/png": "[encoded data removed]"
          },
          "metadata": {
            "needs_background": "light"
          }
        }
      ]
    },
    {
      "cell_type": "markdown",
      "source": [
        "\n",
        "\n",
        "```\n",
        "The above visualization steps are necessary because if look at the images we could find that these are of only 28 by 28 px, \n",
        "if seen from a distance even human eyes sometimes might not recognize them.\n",
        "Thus it is better to visualize our data before processing it just to grasp about what are gettng ourselves into.\n",
        "```\n",
        "\n"
      ],
      "metadata": {
        "id": "1HvoY1M3lkJP"
      }
    },
    {
      "cell_type": "code",
      "source": [
        "# pytorch doesn't know how to work wth images. it is a library for processing tensors.\n",
        "# thus we need to tranform them into tensors\n",
        "# \"tranforms\": converts any type of data into tensors\n",
        "import torchvision.transforms as transforms"
      ],
      "metadata": {
        "id": "eFC1qxZiZ59D"
      },
      "execution_count": null,
      "outputs": []
    },
    {
      "cell_type": "code",
      "source": [
        "# MNIST dataset (images and labels)\n",
        "dataset = MNIST(root='data/', \n",
        "                train=True,\n",
        "                transform=transforms.ToTensor())"
      ],
      "metadata": {
        "id": "DVwd71XKZ72g"
      },
      "execution_count": null,
      "outputs": []
    },
    {
      "cell_type": "code",
      "source": [
        "img_tensor, label = dataset[0]\n",
        "print(img_tensor.shape, label)\n",
        "# since our images are in the form of pairs, so when we are printing it we need need to label both the fields, sim. to what we've done above.\n",
        "# torch.shape consists of 3 channels the last 2 channels are the dimensions of the image while the 1st channel tracks the color channels. i.e \"1\" shows gray scale type"
      ],
      "metadata": {
        "colab": {
          "base_uri": "https://localhost:8080/"
        },
        "id": "KdW1KsWCZ-Gg",
        "outputId": "ec7b4259-1ebd-4a04-cfc9-08cda7144056"
      },
      "execution_count": null,
      "outputs": [
        {
          "output_type": "stream",
          "name": "stdout",
          "text": [
            "torch.Size([1, 28, 28]) 5\n"
          ]
        }
      ]
    },
    {
      "cell_type": "code",
      "source": [
        "# 0 represents black, 1 represents while. values in between them represents the different shades of gray\n",
        "print(img_tensor[0,10:15,10:15])\n",
        "# passing above argument we are tracking '0' as the first channel and then tracking 10th to 15th row and 10th to 15th coloumn.\n",
        "print(torch.max(img_tensor), torch.min(img_tensor))"
      ],
      "metadata": {
        "colab": {
          "base_uri": "https://localhost:8080/"
        },
        "id": "uNmVyxemaAYq",
        "outputId": "acf65e34-8ee1-4202-c237-0a4479330c4f"
      },
      "execution_count": null,
      "outputs": [
        {
          "output_type": "stream",
          "name": "stdout",
          "text": [
            "tensor([[0.0039, 0.6039, 0.9922, 0.3529, 0.0000],\n",
            "        [0.0000, 0.5451, 0.9922, 0.7451, 0.0078],\n",
            "        [0.0000, 0.0431, 0.7451, 0.9922, 0.2745],\n",
            "        [0.0000, 0.0000, 0.1373, 0.9451, 0.8824],\n",
            "        [0.0000, 0.0000, 0.0000, 0.3176, 0.9412]])\n",
            "tensor(1.) tensor(0.)\n"
          ]
        }
      ]
    },
    {
      "cell_type": "code",
      "source": [
        "# Plot the image by passing in the 28x28 matrix\n",
        "plt.imshow(img_tensor[0,10:15,10:15], cmap='gray');"
      ],
      "metadata": {
        "colab": {
          "base_uri": "https://localhost:8080/",
          "height": 265
        },
        "id": "xzzDA545aD5O",
        "outputId": "ae6a8598-cff9-4104-ee97-d06fa61cedef"
      },
      "execution_count": null,
      "outputs": [
        {
          "output_type": "display_data",
          "data": {
            "text/plain": [
              "<Figure size 432x288 with 1 Axes>"
            ],
            "image/png": "[encoded data removed]"
          },
          "metadata": {
            "needs_background": "light"
          }
        }
      ]
    },
    {
      "cell_type": "code",
      "source": [
        "# since we want validation set, we can get it from the training set by dividing it. \n",
        "# Since our data is not time dependent, so this time we're dividing our dataset using the random_split method from pytorch.\n",
        "from torch.utils.data import random_split\n",
        "\n",
        "train_ds, val_ds = random_split(dataset, [50000, 10000])\n",
        "# in the above step we invoked random_split method, passed it on dataset and set the size of the train and validation set.\n",
        "len(train_ds), len(val_ds)"
      ],
      "metadata": {
        "colab": {
          "base_uri": "https://localhost:8080/"
        },
        "id": "q4I3ZA55aF3H",
        "outputId": "fc678b3b-9d79-4265-979d-892821f7e853"
      },
      "execution_count": null,
      "outputs": [
        {
          "output_type": "execute_result",
          "data": {
            "text/plain": [
              "(50000, 10000)"
            ]
          },
          "metadata": {},
          "execution_count": 14
        }
      ]
    },
    {
      "cell_type": "markdown",
      "source": [
        "\n",
        "\n",
        "```\n",
        "Ques. Why we randomly select the validation set?\n",
        "\n",
        "This is because most of the time the dataset is in some sort of order. i.e. MNIST dataset consists of 0's images followed by 1 then 2 and so on.\n",
        "thus if we take anyone part of the dataset then it will definitely lack the instance of almost all the values present in the dataset.\n",
        "\n",
        "for ex. if we take the last part of the dataset as the VDS, in that case it will only contains 8 and 9 hence we cannot build a perfect model\n",
        "```\n",
        "\n"
      ],
      "metadata": {
        "id": "SG63k80H5FNM"
      }
    },
    {
      "cell_type": "code",
      "source": [
        "# now that we have divided our dataset, we are now creating dataloaders. we are using the batch size of 128\n",
        "# there are 50K images and 10k validation images we cannot put them into a single gradient descent loop because\n",
        "# 1. They might not fit into the ram\n",
        "# 2. Even if they do fit, the performance would be very slow. \n",
        "# and we can achieve much better accuracy with batches of small size.\n",
        "from torch.utils.data import DataLoader\n",
        "\n",
        "batch_size = 128\n",
        "\n",
        "train_loader = DataLoader(train_ds, batch_size, shuffle=True)\n",
        "# we're creating the train loader with train_ds, passing the batch size, and setting shuffle to true so that batches are generated randomly in each epoch.\n",
        "# this ranomization speeds up the training and helps our model to generalize.\n",
        "val_loader = DataLoader(val_ds, batch_size)\n",
        "# since we need validation set to check the accuracy we dont need to shuffle it."
      ],
      "metadata": {
        "id": "pQl-RZ-0aITd"
      },
      "execution_count": null,
      "outputs": []
    },
    {
      "cell_type": "markdown",
      "source": [
        "\n",
        "```\n",
        "Model\n",
        "\n",
        "Now that we have prepared our data loaders, we can define our model.\n",
        "\n",
        "A logistic regression model contains weights and bias matrices, \n",
        "and the output is obtained using simple matrix operations (pred = x @ w.t() + b).\n",
        "\n",
        "we will use nn.Linear to create the model instead of manually creating and initializing the matrices.\n",
        "\n",
        "Since nn.Linear expects each training example to be a vector, each 1x28x28 image tensor is flattened into a vector of size 784 (28*28) \n",
        "before being passed into the model.\n",
        "\n",
        "The output for each image is a vector of size 10, with each element signifying the probability of a particular target label (i.e., 0 to 9). \n",
        "The predicted label for an image is simply the one with the highest probability.\n",
        "```\n",
        "\n"
      ],
      "metadata": {
        "id": "V6Cf91gAIm4U"
      }
    },
    {
      "cell_type": "code",
      "source": [
        "import torch.nn as nn\n",
        "\n",
        "input_size = 28*28\n",
        "num_classes = 10\n",
        "\n",
        "# Logistic regression model\n",
        "model = nn.Linear(input_size, num_classes)"
      ],
      "metadata": {
        "id": "HV-owJTtaL1D"
      },
      "execution_count": null,
      "outputs": []
    },
    {
      "cell_type": "code",
      "source": [
        "print(model.weight.shape)\n",
        "model.weight"
      ],
      "metadata": {
        "colab": {
          "base_uri": "https://localhost:8080/"
        },
        "id": "AAeIglz-aQAo",
        "outputId": "bc7b2ea5-dd5d-464e-f760-f2f71c5d475b"
      },
      "execution_count": null,
      "outputs": [
        {
          "output_type": "stream",
          "name": "stdout",
          "text": [
            "torch.Size([10, 784])\n"
          ]
        },
        {
          "output_type": "execute_result",
          "data": {
            "text/plain": [
              "Parameter containing:\n",
              "tensor([[ 0.0163, -0.0147,  0.0220,  ..., -0.0128, -0.0169,  0.0051],\n",
              "        [ 0.0153,  0.0333,  0.0282,  ..., -0.0123, -0.0196, -0.0069],\n",
              "        [ 0.0154,  0.0151, -0.0176,  ..., -0.0170, -0.0012,  0.0350],\n",
              "        ...,\n",
              "        [ 0.0157,  0.0042, -0.0120,  ..., -0.0188,  0.0354,  0.0300],\n",
              "        [ 0.0191,  0.0228,  0.0094,  ...,  0.0234, -0.0068, -0.0019],\n",
              "        [ 0.0091,  0.0253, -0.0187,  ...,  0.0085, -0.0170,  0.0120]],\n",
              "       requires_grad=True)"
            ]
          },
          "metadata": {},
          "execution_count": 17
        }
      ]
    },
    {
      "cell_type": "code",
      "source": [
        "print(model.bias.shape)\n",
        "model.bias"
      ],
      "metadata": {
        "colab": {
          "base_uri": "https://localhost:8080/"
        },
        "id": "ww8h-yiTaTl-",
        "outputId": "ecc44c22-82ba-4bcf-c11d-73949c7c0ed8"
      },
      "execution_count": null,
      "outputs": [
        {
          "output_type": "stream",
          "name": "stdout",
          "text": [
            "torch.Size([10])\n"
          ]
        },
        {
          "output_type": "execute_result",
          "data": {
            "text/plain": [
              "Parameter containing:\n",
              "tensor([-0.0127,  0.0056,  0.0150,  0.0084,  0.0244,  0.0326, -0.0231,  0.0147,\n",
              "        -0.0287, -0.0107], requires_grad=True)"
            ]
          },
          "metadata": {},
          "execution_count": 18
        }
      ]
    },
    {
      "cell_type": "code",
      "source": [
        "for images, labels in train_loader:\n",
        "    print(labels)\n",
        "    print(images.shape)\n",
        "    outputs = model(images)\n",
        "    print(outputs)\n",
        "    break\n",
        "# since the images are in 4d shape thus we need need to flatten it into 2d vectors i.e. convert them into vectors of size 784."
      ],
      "metadata": {
        "colab": {
          "base_uri": "https://localhost:8080/",
          "height": 501
        },
        "id": "k5z9fcxaaWPz",
        "outputId": "cb9ad1f6-8837-4048-8dac-97103710268c"
      },
      "execution_count": null,
      "outputs": [
        {
          "output_type": "stream",
          "name": "stdout",
          "text": [
            "tensor([7, 0, 5, 9, 6, 3, 8, 1, 4, 8, 6, 4, 1, 4, 5, 3, 9, 2, 7, 1, 4, 3, 8, 4,\n",
            "        3, 7, 1, 8, 9, 1, 8, 5, 1, 5, 4, 2, 1, 8, 8, 1, 5, 1, 3, 1, 3, 7, 7, 1,\n",
            "        6, 9, 2, 4, 0, 8, 1, 8, 9, 7, 3, 8, 8, 8, 8, 9, 0, 9, 5, 6, 5, 3, 1, 2,\n",
            "        1, 4, 1, 9, 3, 1, 5, 8, 8, 7, 1, 9, 7, 9, 2, 9, 9, 9, 8, 1, 5, 8, 6, 9,\n",
            "        0, 9, 5, 5, 2, 1, 2, 7, 1, 9, 0, 4, 7, 2, 6, 8, 8, 6, 1, 4, 7, 0, 4, 9,\n",
            "        9, 2, 0, 0, 9, 0, 0, 7])\n",
            "torch.Size([128, 1, 28, 28])\n"
          ]
        },
        {
          "output_type": "error",
          "ename": "RuntimeError",
          "evalue": "ignored",
          "traceback": [
            "\u001b[0;31m---------------------------------------------------------------------------\u001b[0m",
            "\u001b[0;31mRuntimeError\u001b[0m                              Traceback (most recent call last)",
            "\u001b[0;32m<ipython-input-19-e24f800f8660>\u001b[0m in \u001b[0;36m<module>\u001b[0;34m\u001b[0m\n\u001b[1;32m      2\u001b[0m     \u001b[0mprint\u001b[0m\u001b[0;34m(\u001b[0m\u001b[0mlabels\u001b[0m\u001b[0;34m)\u001b[0m\u001b[0;34m\u001b[0m\u001b[0;34m\u001b[0m\u001b[0m\n\u001b[1;32m      3\u001b[0m     \u001b[0mprint\u001b[0m\u001b[0;34m(\u001b[0m\u001b[0mimages\u001b[0m\u001b[0;34m.\u001b[0m\u001b[0mshape\u001b[0m\u001b[0;34m)\u001b[0m\u001b[0;34m\u001b[0m\u001b[0;34m\u001b[0m\u001b[0m\n\u001b[0;32m----> 4\u001b[0;31m     \u001b[0moutputs\u001b[0m \u001b[0;34m=\u001b[0m \u001b[0mmodel\u001b[0m\u001b[0;34m(\u001b[0m\u001b[0mimages\u001b[0m\u001b[0;34m)\u001b[0m\u001b[0;34m\u001b[0m\u001b[0;34m\u001b[0m\u001b[0m\n\u001b[0m\u001b[1;32m      5\u001b[0m     \u001b[0mprint\u001b[0m\u001b[0;34m(\u001b[0m\u001b[0moutputs\u001b[0m\u001b[0;34m)\u001b[0m\u001b[0;34m\u001b[0m\u001b[0;34m\u001b[0m\u001b[0m\n\u001b[1;32m      6\u001b[0m     \u001b[0;32mbreak\u001b[0m\u001b[0;34m\u001b[0m\u001b[0;34m\u001b[0m\u001b[0m\n",
            "\u001b[0;32m/usr/local/lib/python3.7/dist-packages/torch/nn/modules/module.py\u001b[0m in \u001b[0;36m_call_impl\u001b[0;34m(self, *input, **kwargs)\u001b[0m\n\u001b[1;32m   1128\u001b[0m         if not (self._backward_hooks or self._forward_hooks or self._forward_pre_hooks or _global_backward_hooks\n\u001b[1;32m   1129\u001b[0m                 or _global_forward_hooks or _global_forward_pre_hooks):\n\u001b[0;32m-> 1130\u001b[0;31m             \u001b[0;32mreturn\u001b[0m \u001b[0mforward_call\u001b[0m\u001b[0;34m(\u001b[0m\u001b[0;34m*\u001b[0m\u001b[0minput\u001b[0m\u001b[0;34m,\u001b[0m \u001b[0;34m**\u001b[0m\u001b[0mkwargs\u001b[0m\u001b[0;34m)\u001b[0m\u001b[0;34m\u001b[0m\u001b[0;34m\u001b[0m\u001b[0m\n\u001b[0m\u001b[1;32m   1131\u001b[0m         \u001b[0;31m# Do not call functions when jit is used\u001b[0m\u001b[0;34m\u001b[0m\u001b[0;34m\u001b[0m\u001b[0;34m\u001b[0m\u001b[0m\n\u001b[1;32m   1132\u001b[0m         \u001b[0mfull_backward_hooks\u001b[0m\u001b[0;34m,\u001b[0m \u001b[0mnon_full_backward_hooks\u001b[0m \u001b[0;34m=\u001b[0m \u001b[0;34m[\u001b[0m\u001b[0;34m]\u001b[0m\u001b[0;34m,\u001b[0m \u001b[0;34m[\u001b[0m\u001b[0;34m]\u001b[0m\u001b[0;34m\u001b[0m\u001b[0;34m\u001b[0m\u001b[0m\n",
            "\u001b[0;32m/usr/local/lib/python3.7/dist-packages/torch/nn/modules/linear.py\u001b[0m in \u001b[0;36mforward\u001b[0;34m(self, input)\u001b[0m\n\u001b[1;32m    112\u001b[0m \u001b[0;34m\u001b[0m\u001b[0m\n\u001b[1;32m    113\u001b[0m     \u001b[0;32mdef\u001b[0m \u001b[0mforward\u001b[0m\u001b[0;34m(\u001b[0m\u001b[0mself\u001b[0m\u001b[0;34m,\u001b[0m \u001b[0minput\u001b[0m\u001b[0;34m:\u001b[0m \u001b[0mTensor\u001b[0m\u001b[0;34m)\u001b[0m \u001b[0;34m->\u001b[0m \u001b[0mTensor\u001b[0m\u001b[0;34m:\u001b[0m\u001b[0;34m\u001b[0m\u001b[0;34m\u001b[0m\u001b[0m\n\u001b[0;32m--> 114\u001b[0;31m         \u001b[0;32mreturn\u001b[0m \u001b[0mF\u001b[0m\u001b[0;34m.\u001b[0m\u001b[0mlinear\u001b[0m\u001b[0;34m(\u001b[0m\u001b[0minput\u001b[0m\u001b[0;34m,\u001b[0m \u001b[0mself\u001b[0m\u001b[0;34m.\u001b[0m\u001b[0mweight\u001b[0m\u001b[0;34m,\u001b[0m \u001b[0mself\u001b[0m\u001b[0;34m.\u001b[0m\u001b[0mbias\u001b[0m\u001b[0;34m)\u001b[0m\u001b[0;34m\u001b[0m\u001b[0;34m\u001b[0m\u001b[0m\n\u001b[0m\u001b[1;32m    115\u001b[0m \u001b[0;34m\u001b[0m\u001b[0m\n\u001b[1;32m    116\u001b[0m     \u001b[0;32mdef\u001b[0m \u001b[0mextra_repr\u001b[0m\u001b[0;34m(\u001b[0m\u001b[0mself\u001b[0m\u001b[0;34m)\u001b[0m \u001b[0;34m->\u001b[0m \u001b[0mstr\u001b[0m\u001b[0;34m:\u001b[0m\u001b[0;34m\u001b[0m\u001b[0;34m\u001b[0m\u001b[0m\n",
            "\u001b[0;31mRuntimeError\u001b[0m: mat1 and mat2 shapes cannot be multiplied (3584x28 and 784x10)"
          ]
        }
      ]
    },
    {
      "cell_type": "code",
      "source": [
        "images.shape"
      ],
      "metadata": {
        "colab": {
          "base_uri": "https://localhost:8080/"
        },
        "id": "g1Ad1PHBaYj0",
        "outputId": "d8b88104-9aff-4e67-a026-2333d1cd5f0e"
      },
      "execution_count": null,
      "outputs": [
        {
          "output_type": "execute_result",
          "data": {
            "text/plain": [
              "torch.Size([128, 1, 28, 28])"
            ]
          },
          "metadata": {},
          "execution_count": 20
        }
      ]
    },
    {
      "cell_type": "code",
      "source": [
        "images.reshape(128, 784).shape\n",
        "# we're are not modifying the shape of the image, we're just looking at the with different perspective i.e. in vectors"
      ],
      "metadata": {
        "colab": {
          "base_uri": "https://localhost:8080/"
        },
        "id": "1_QoGJX9aj1D",
        "outputId": "a4e641a5-c10c-482d-8baa-4abde6e76fd6"
      },
      "execution_count": null,
      "outputs": [
        {
          "output_type": "execute_result",
          "data": {
            "text/plain": [
              "torch.Size([128, 784])"
            ]
          },
          "metadata": {},
          "execution_count": 21
        }
      ]
    },
    {
      "cell_type": "code",
      "source": [
        "# we're extending nn.module class\n",
        "# we've inherited the constructor of the parent class and extended it \"self.linear\".\n",
        "# then we're defining a method named forward which will simply convert the images from 4d to 2d\n",
        "class MnistModel(nn.Module):\n",
        "    def __init__(self):\n",
        "        super().__init__()\n",
        "        self.linear = nn.Linear(input_size, num_classes)\n",
        "        \n",
        "    def forward(self, xb):\n",
        "        xb = xb.reshape(-1, 784)\n",
        "        out = self.linear(xb)\n",
        "        return out\n",
        "    \n",
        "model = MnistModel()\n",
        "# xb = xb.reshape(-1, 784): instea of 128 we could just write 128 but pytorch already knows the input vector xb has certain dimensions inshort how many total elements it has\n",
        "# thus if we simply tell that we need 2nd dimension as 784, putorch will divide total elements by 784 and get the other dimension\n",
        "# this is very useful because\n",
        "# 1. we dont have to perform the entire calc.\n",
        "# 2. It makes oue model generic i.e. it is not tied or hard bound to a specific batch size so even if we change the batch size to something else, this fn. will work.\n",
        "\n",
        "\n",
        "# this is our custom model using pytorch."
      ],
      "metadata": {
        "id": "0x7ybyLsbMpJ"
      },
      "execution_count": null,
      "outputs": []
    },
    {
      "cell_type": "code",
      "source": [
        "model.linear"
      ],
      "metadata": {
        "colab": {
          "base_uri": "https://localhost:8080/"
        },
        "id": "CXb-SJ1pbRAw",
        "outputId": "5d432a72-efb7-4f3b-c2e3-51c9855af36a"
      },
      "execution_count": null,
      "outputs": [
        {
          "output_type": "execute_result",
          "data": {
            "text/plain": [
              "Linear(in_features=784, out_features=10, bias=True)"
            ]
          },
          "metadata": {},
          "execution_count": 23
        }
      ]
    },
    {
      "cell_type": "code",
      "source": [
        "print(model.linear.weight.shape, model.linear.bias.shape)\n",
        "list(model.parameters())\n",
        "# we've defined \"linear\" by hard code, but inside it has weights and bais. this is the feature of pytorch\n",
        "# another feature is that no matter how many such layers are there pytorch will take all their weights and baises and bundle them into a single list \n",
        "# which we can access using \"model.parameters()\"."
      ],
      "metadata": {
        "colab": {
          "base_uri": "https://localhost:8080/"
        },
        "id": "pil0GKVebS_X",
        "outputId": "bf77f088-c1af-4da5-c0bc-3f02c4f5112f"
      },
      "execution_count": null,
      "outputs": [
        {
          "output_type": "stream",
          "name": "stdout",
          "text": [
            "torch.Size([10, 784]) torch.Size([10])\n"
          ]
        },
        {
          "output_type": "execute_result",
          "data": {
            "text/plain": [
              "[Parameter containing:\n",
              " tensor([[ 0.0020, -0.0120, -0.0075,  ...,  0.0342, -0.0337, -0.0233],\n",
              "         [-0.0345, -0.0074, -0.0145,  ..., -0.0332,  0.0071, -0.0067],\n",
              "         [ 0.0305, -0.0179,  0.0182,  ..., -0.0122, -0.0301, -0.0272],\n",
              "         ...,\n",
              "         [ 0.0326,  0.0276,  0.0289,  ..., -0.0195,  0.0189,  0.0300],\n",
              "         [-0.0333,  0.0280, -0.0089,  ...,  0.0055, -0.0061,  0.0259],\n",
              "         [-0.0250, -0.0140,  0.0285,  ...,  0.0322,  0.0339,  0.0182]],\n",
              "        requires_grad=True), Parameter containing:\n",
              " tensor([ 0.0217,  0.0003,  0.0259,  0.0328, -0.0061,  0.0140, -0.0193,  0.0174,\n",
              "          0.0220, -0.0072], requires_grad=True)]"
            ]
          },
          "metadata": {},
          "execution_count": 24
        }
      ]
    },
    {
      "cell_type": "code",
      "source": [
        "# we can use this customized model the same way because we're just extending the nn.Module class.\n",
        "for images, labels in train_loader:\n",
        "    print(images.shape)\n",
        "    outputs = model(images)\n",
        "    break\n",
        "\n",
        "print('outputs.shape : ', outputs.shape)\n",
        "print('Sample outputs :\\n', outputs[:2].data)\n",
        "# \"outputs[:2]\": printing the first 2 outputs."
      ],
      "metadata": {
        "colab": {
          "base_uri": "https://localhost:8080/"
        },
        "id": "4KX748nKbUkh",
        "outputId": "fe7cf8f4-6b01-4a2b-b5d9-925ec43fce6c"
      },
      "execution_count": null,
      "outputs": [
        {
          "output_type": "stream",
          "name": "stdout",
          "text": [
            "torch.Size([128, 1, 28, 28])\n",
            "outputs.shape :  torch.Size([128, 10])\n",
            "Sample outputs :\n",
            " tensor([[-0.1561, -0.0575,  0.0257,  0.4137, -0.3011, -0.4024,  0.1704, -0.0813,\n",
            "          0.2073,  0.0905],\n",
            "        [ 0.2132, -0.0520,  0.0410,  0.4731, -0.4196, -0.0120,  0.0987, -0.0760,\n",
            "          0.2289, -0.2261]])\n"
          ]
        }
      ]
    },
    {
      "cell_type": "markdown",
      "source": [
        "\n",
        "\n",
        "```\n",
        "Observations from the above predictions:\n",
        "\n",
        "1. Some prob. are -ve.\n",
        "2. Since we know that sum of the probabilities should add up to make 1, but in the above case it is not following that rule\n",
        "3. Model should not predict all the labels with a good prob. Instead it should predict any one label with a very high prob. \n",
        "and viceversa for others\n",
        "\n",
        "Thus we will be using softmax function to resolve the above problems\n",
        "```\n",
        "\n"
      ],
      "metadata": {
        "id": "OaqGKoi_sdOP"
      }
    },
    {
      "cell_type": "markdown",
      "source": [
        "![Softmax.png](data:image/png;base64,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)"
      ],
      "metadata": {
        "id": "s5191cIqujig"
      }
    },
    {
      "cell_type": "code",
      "source": [
        "import torch.nn.functional as F\n",
        "# it contains softmax implementation"
      ],
      "metadata": {
        "id": "9lwdA88lbWY4"
      },
      "execution_count": null,
      "outputs": []
    },
    {
      "cell_type": "code",
      "source": [
        "outputs[:2]"
      ],
      "metadata": {
        "colab": {
          "base_uri": "https://localhost:8080/"
        },
        "id": "4VvQ4ScJbY2u",
        "outputId": "fe34aed1-5034-4f80-e4c4-4d1fb611f372"
      },
      "execution_count": null,
      "outputs": [
        {
          "output_type": "execute_result",
          "data": {
            "text/plain": [
              "tensor([[-0.1561, -0.0575,  0.0257,  0.4137, -0.3011, -0.4024,  0.1704, -0.0813,\n",
              "          0.2073,  0.0905],\n",
              "        [ 0.2132, -0.0520,  0.0410,  0.4731, -0.4196, -0.0120,  0.0987, -0.0760,\n",
              "          0.2289, -0.2261]], grad_fn=<SliceBackward0>)"
            ]
          },
          "metadata": {},
          "execution_count": 27
        }
      ]
    },
    {
      "cell_type": "code",
      "source": [
        "\n",
        "# Apply softmax for each output row\n",
        "probs = F.softmax(outputs, dim=1)\n",
        "\n",
        "# Look at sample probabilities\n",
        "print(\"Sample probabilities:\\n\", probs[:2].data)\n",
        "\n",
        "# Add up the probabilities of an output row\n",
        "print(\"Sum: \", torch.sum(probs[0]).item())"
      ],
      "metadata": {
        "colab": {
          "base_uri": "https://localhost:8080/"
        },
        "id": "Aeuf1eo2be_D",
        "outputId": "c17bfc15-616a-464b-fec1-8ca39b551075"
      },
      "execution_count": null,
      "outputs": [
        {
          "output_type": "stream",
          "name": "stdout",
          "text": [
            "Sample probabilities:\n",
            " tensor([[0.0840, 0.0927, 0.1008, 0.1486, 0.0727, 0.0657, 0.1165, 0.0906, 0.1209,\n",
            "         0.1075],\n",
            "        [0.1172, 0.0899, 0.0986, 0.1519, 0.0622, 0.0935, 0.1045, 0.0877, 0.1190,\n",
            "         0.0755]])\n",
            "Sum:  0.9999999403953552\n"
          ]
        }
      ]
    },
    {
      "cell_type": "code",
      "source": [
        "# since we've to pick the label with the highest prob. we're using \"torch.max to get the label along the dimension 1\"\n",
        "max_probs, preds = torch.max(probs, dim=1)\n",
        "print(preds)\n",
        "print(max_probs)"
      ],
      "metadata": {
        "colab": {
          "base_uri": "https://localhost:8080/"
        },
        "id": "raz0Q8lEciSs",
        "outputId": "34b44947-7778-4ed8-8992-da2305f3907b"
      },
      "execution_count": null,
      "outputs": [
        {
          "output_type": "stream",
          "name": "stdout",
          "text": [
            "tensor([3, 3, 7, 3, 3, 3, 9, 3, 3, 3, 8, 3, 6, 0, 3, 7, 8, 3, 3, 2, 3, 3, 3, 3,\n",
            "        7, 3, 8, 8, 7, 3, 3, 3, 6, 3, 3, 3, 6, 3, 3, 8, 3, 3, 9, 3, 1, 3, 7, 3,\n",
            "        2, 3, 3, 3, 6, 3, 0, 3, 8, 3, 3, 8, 3, 8, 1, 3, 8, 3, 3, 3, 3, 3, 3, 3,\n",
            "        3, 2, 3, 8, 6, 3, 3, 3, 8, 6, 3, 6, 3, 8, 3, 3, 9, 3, 3, 2, 3, 3, 2, 3,\n",
            "        3, 3, 6, 3, 3, 3, 2, 7, 2, 3, 2, 8, 9, 2, 8, 3, 2, 3, 6, 7, 6, 3, 8, 7,\n",
            "        3, 2, 3, 3, 3, 2, 7, 3])\n",
            "tensor([0.1486, 0.1519, 0.1149, 0.1367, 0.1377, 0.1199, 0.1231, 0.1206, 0.1402,\n",
            "        0.1471, 0.1208, 0.1623, 0.1357, 0.1228, 0.1604, 0.1286, 0.1396, 0.1386,\n",
            "        0.1358, 0.1236, 0.1325, 0.1606, 0.1242, 0.1575, 0.1273, 0.1406, 0.1355,\n",
            "        0.1337, 0.1352, 0.1473, 0.1336, 0.1443, 0.1271, 0.1464, 0.1390, 0.1181,\n",
            "        0.1304, 0.1389, 0.1393, 0.1343, 0.1388, 0.1196, 0.1117, 0.1399, 0.1286,\n",
            "        0.1325, 0.1516, 0.1280, 0.1203, 0.1217, 0.1422, 0.1302, 0.1393, 0.1562,\n",
            "        0.1329, 0.1580, 0.1195, 0.1350, 0.1671, 0.1322, 0.1505, 0.1356, 0.1248,\n",
            "        0.1408, 0.1339, 0.1477, 0.1273, 0.1237, 0.1697, 0.1359, 0.1414, 0.1770,\n",
            "        0.1236, 0.1110, 0.1208, 0.1356, 0.1342, 0.1230, 0.1430, 0.1338, 0.1405,\n",
            "        0.1390, 0.1399, 0.1301, 0.1240, 0.1313, 0.1966, 0.1603, 0.1218, 0.1319,\n",
            "        0.1410, 0.1354, 0.1286, 0.1495, 0.1213, 0.1262, 0.1364, 0.1838, 0.1434,\n",
            "        0.1366, 0.1304, 0.1460, 0.1183, 0.1199, 0.1418, 0.1220, 0.1224, 0.1324,\n",
            "        0.1300, 0.1248, 0.1278, 0.1508, 0.1504, 0.1514, 0.1241, 0.1166, 0.1504,\n",
            "        0.1327, 0.1211, 0.1182, 0.1376, 0.1208, 0.1289, 0.1628, 0.1396, 0.1318,\n",
            "        0.1104, 0.1332], grad_fn=<MaxBackward0>)\n"
          ]
        }
      ]
    },
    {
      "cell_type": "code",
      "source": [
        "labels"
      ],
      "metadata": {
        "colab": {
          "base_uri": "https://localhost:8080/"
        },
        "id": "0ySiHBcDcl4f",
        "outputId": "efe0403a-a084-47ab-c5d2-147d9abdd1ab"
      },
      "execution_count": null,
      "outputs": [
        {
          "output_type": "execute_result",
          "data": {
            "text/plain": [
              "tensor([5, 8, 5, 7, 6, 1, 6, 5, 3, 7, 4, 8, 9, 0, 6, 0, 4, 5, 7, 1, 2, 3, 5, 2,\n",
              "        2, 9, 4, 2, 2, 5, 1, 5, 7, 6, 9, 9, 6, 5, 6, 9, 6, 3, 1, 3, 0, 0, 2, 1,\n",
              "        9, 3, 8, 4, 3, 3, 0, 2, 5, 4, 2, 0, 0, 0, 5, 7, 8, 5, 0, 2, 3, 8, 5, 2,\n",
              "        8, 0, 1, 4, 4, 6, 4, 5, 7, 0, 0, 7, 2, 7, 3, 3, 1, 7, 3, 1, 5, 8, 2, 8,\n",
              "        4, 3, 0, 5, 1, 4, 1, 1, 7, 3, 4, 0, 1, 9, 0, 6, 2, 8, 6, 2, 5, 7, 0, 2,\n",
              "        8, 1, 6, 3, 8, 1, 3, 7])"
            ]
          },
          "metadata": {},
          "execution_count": 30
        }
      ]
    },
    {
      "cell_type": "code",
      "source": [
        "outputs[:2]"
      ],
      "metadata": {
        "colab": {
          "base_uri": "https://localhost:8080/"
        },
        "id": "4n6MaC5Fcoko",
        "outputId": "a9958d2b-7864-4934-b756-217312da403c"
      },
      "execution_count": null,
      "outputs": [
        {
          "output_type": "execute_result",
          "data": {
            "text/plain": [
              "tensor([[-0.1561, -0.0575,  0.0257,  0.4137, -0.3011, -0.4024,  0.1704, -0.0813,\n",
              "          0.2073,  0.0905],\n",
              "        [ 0.2132, -0.0520,  0.0410,  0.4731, -0.4196, -0.0120,  0.0987, -0.0760,\n",
              "          0.2289, -0.2261]], grad_fn=<SliceBackward0>)"
            ]
          },
          "metadata": {},
          "execution_count": 31
        }
      ]
    },
    {
      "cell_type": "code",
      "source": [
        "torch.sum(preds == labels)\n",
        "#\"preds == labels\": Since this boolean when we apply torch.sum to it, it will return the total no. of predictions which comes out to be true. "
      ],
      "metadata": {
        "colab": {
          "base_uri": "https://localhost:8080/"
        },
        "id": "VblWz7Qmcs7A",
        "outputId": "ddc1a9bf-9300-47c4-c16f-ecde476c5948"
      },
      "execution_count": null,
      "outputs": [
        {
          "output_type": "execute_result",
          "data": {
            "text/plain": [
              "tensor(20)"
            ]
          },
          "metadata": {},
          "execution_count": 32
        }
      ]
    },
    {
      "cell_type": "code",
      "source": [
        "# we can calc. the accuracy from the outputs itself because even after applying softmax, the relative order of the outputs won't change.\n",
        "def accuracy(outputs, labels):\n",
        "    _, preds = torch.max(outputs, dim=1)\n",
        "    return torch.tensor(torch.sum(preds == labels).item() / len(preds))\n",
        "# \" '_', preds\": For the accuracy we're just concerned with the predictions and not the probs. thus we have used '_' inplace of it."
      ],
      "metadata": {
        "id": "5Tsv6J41cvRU"
      },
      "execution_count": null,
      "outputs": []
    },
    {
      "cell_type": "code",
      "source": [
        "accuracy(outputs, labels)"
      ],
      "metadata": {
        "colab": {
          "base_uri": "https://localhost:8080/"
        },
        "id": "euz1sIL1cxHx",
        "outputId": "9896bcd1-e8e1-494e-e7c1-5ae4d4075294"
      },
      "execution_count": null,
      "outputs": [
        {
          "output_type": "execute_result",
          "data": {
            "text/plain": [
              "tensor(0.1562)"
            ]
          },
          "metadata": {},
          "execution_count": 34
        }
      ]
    },
    {
      "cell_type": "code",
      "source": [
        "probs"
      ],
      "metadata": {
        "colab": {
          "base_uri": "https://localhost:8080/"
        },
        "id": "j5jYuUK1czcY",
        "outputId": "aad95d4d-a4b5-4278-e021-90ebfa582b31"
      },
      "execution_count": null,
      "outputs": [
        {
          "output_type": "execute_result",
          "data": {
            "text/plain": [
              "tensor([[0.0840, 0.0927, 0.1008,  ..., 0.0906, 0.1209, 0.1075],\n",
              "        [0.1172, 0.0899, 0.0986,  ..., 0.0877, 0.1190, 0.0755],\n",
              "        [0.1028, 0.1127, 0.1145,  ..., 0.1149, 0.1090, 0.0955],\n",
              "        ...,\n",
              "        [0.0870, 0.0828, 0.1318,  ..., 0.1125, 0.0954, 0.1136],\n",
              "        [0.0911, 0.1065, 0.0958,  ..., 0.1104, 0.1008, 0.0951],\n",
              "        [0.0755, 0.0978, 0.1056,  ..., 0.1044, 0.1025, 0.0807]],\n",
              "       grad_fn=<SoftmaxBackward0>)"
            ]
          },
          "metadata": {},
          "execution_count": 35
        }
      ]
    },
    {
      "cell_type": "code",
      "source": [
        "outputs"
      ],
      "metadata": {
        "colab": {
          "base_uri": "https://localhost:8080/"
        },
        "id": "Fla23rzZc1l9",
        "outputId": "257761c5-5568-4524-9c46-8831a5ec857b"
      },
      "execution_count": null,
      "outputs": [
        {
          "output_type": "execute_result",
          "data": {
            "text/plain": [
              "tensor([[-0.1561, -0.0575,  0.0257,  ..., -0.0813,  0.2073,  0.0905],\n",
              "        [ 0.2132, -0.0520,  0.0410,  ..., -0.0760,  0.2289, -0.2261],\n",
              "        [ 0.0535,  0.1449,  0.1606,  ...,  0.1643,  0.1119, -0.0211],\n",
              "        ...,\n",
              "        [-0.0677, -0.1178,  0.3468,  ...,  0.1884,  0.0235,  0.1983],\n",
              "        [-0.0980,  0.0583, -0.0477,  ...,  0.0942,  0.0027, -0.0550],\n",
              "        [-0.2480,  0.0108,  0.0878,  ...,  0.0767,  0.0581, -0.1811]],\n",
              "       grad_fn=<AddmmBackward0>)"
            ]
          },
          "metadata": {},
          "execution_count": 36
        }
      ]
    },
    {
      "cell_type": "code",
      "source": [
        "labels"
      ],
      "metadata": {
        "colab": {
          "base_uri": "https://localhost:8080/"
        },
        "id": "Au09PzMtF8lU",
        "outputId": "ad3b335e-7d1f-458e-b378-13d3a62870b6"
      },
      "execution_count": null,
      "outputs": [
        {
          "output_type": "execute_result",
          "data": {
            "text/plain": [
              "tensor([5, 8, 5, 7, 6, 1, 6, 5, 3, 7, 4, 8, 9, 0, 6, 0, 4, 5, 7, 1, 2, 3, 5, 2,\n",
              "        2, 9, 4, 2, 2, 5, 1, 5, 7, 6, 9, 9, 6, 5, 6, 9, 6, 3, 1, 3, 0, 0, 2, 1,\n",
              "        9, 3, 8, 4, 3, 3, 0, 2, 5, 4, 2, 0, 0, 0, 5, 7, 8, 5, 0, 2, 3, 8, 5, 2,\n",
              "        8, 0, 1, 4, 4, 6, 4, 5, 7, 0, 0, 7, 2, 7, 3, 3, 1, 7, 3, 1, 5, 8, 2, 8,\n",
              "        4, 3, 0, 5, 1, 4, 1, 1, 7, 3, 4, 0, 1, 9, 0, 6, 2, 8, 6, 2, 5, 7, 0, 2,\n",
              "        8, 1, 6, 3, 8, 1, 3, 7])"
            ]
          },
          "metadata": {},
          "execution_count": 37
        }
      ]
    },
    {
      "cell_type": "markdown",
      "source": [
        "\n",
        "\n",
        "```\n",
        "If we look at the accuracy of the model, we could find the accuracy is very low this is because we haven't train our model yet.\n",
        "\n",
        "Till now we have just set up the model so that we can put an image, get its output and extract and compare the label out of it\n",
        "\n",
        "The outputs and the labels are very different because we have randomly initialised weights and baises, Now we need to adjust them.\n",
        "\n",
        "We have calc. the accuracy but we can't use it as loss function to optimize the model using gradient descent because:\n",
        "1. It's not a differentiable function. torch.max and == are both non-continuous and non-differentiable operations, so we can't use \n",
        "the accuracy for computing gradients w.r.t the weights and biases.\n",
        "2. It doesn't take into account the actual probabilities predicted by the model, so it can't provide sufficient feedback \n",
        "for incremental improvements.\n",
        "\n",
        "Ex. Suppose for a label model has an accuracy of .3, another model for the same label has an accuracy of .5, so we nedd to give the feedback to \n",
        "the model with higher accuracy telling it is heading in the right direction but in the case of accuracy if the output is wrong, the prob. \n",
        "of the correct label doesn't matter and it will not give feedback to the model\n",
        "```\n",
        "\n"
      ],
      "metadata": {
        "id": "6Pr3FWlMC7yt"
      }
    },
    {
      "cell_type": "markdown",
      "source": [
        "\n",
        "![cross entropy.png](data:image/png;base64,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)\n",
        "\n",
        "For each output row, pick the predicted probability for the correct label. E.g., if the predicted probabilities for an image are [0.1, 0.3, 0.2, ...] and the correct label is 1, we pick the corresponding element 0.3 and ignore the rest.\n",
        "\n",
        "Then, take the logarithm of the picked probability. If the probability is high, i.e., close to 1, then its logarithm is a very small negative value, close to 0. And if the probability is low (close to 0), then the logarithm is a very large negative value. We also multiply the result by -1, which results is a large postive value of the loss for poor predictions.\n",
        "\n",
        "\n",
        "\n",
        "Finally, take the average of the cross entropy across all the output rows to get the overall loss for a batch of data.\n",
        "Unlike accuracy, cross-entropy is a continuous and differentiable function. It also provides useful feedback for incremental improvements in the model (a slightly higher probability for the correct label leads to a lower loss). These two factors make cross-entropy a better choice for the loss function.\n",
        "\n",
        "![log10.png](data:image/png;base64,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)\n",
        "\n",
        "As you might expect, PyTorch provides an efficient and tensor-friendly implementation of cross-entropy as part of the torch.nn.functional package. Moreover, it also performs softmax internally, so we can directly pass in the model's outputs without converting them into probabilities."
      ],
      "metadata": {
        "id": "TLa3eilMP9m-"
      }
    },
    {
      "cell_type": "code",
      "source": [
        "loss_fn = F.cross_entropy\n",
        "# cross entropy is commonly used as loss fn. for classification problems\n",
        "# It is almost always used with softmax and, thus it applies softmax internally automatically\n",
        "# so we can directly pass the outputs and the labels"
      ],
      "metadata": {
        "id": "bUuydSeJc43F"
      },
      "execution_count": null,
      "outputs": []
    },
    {
      "cell_type": "code",
      "source": [
        "# Loss for current batch of data\n",
        "loss = loss_fn(outputs, labels)\n",
        "print(loss)\n",
        "# first it applies softmax to the outputs then it applies cross entropy\n",
        "# Finally it takes average across the entire batch\n",
        "# \"2.3034\": this is the final entropy, to interpret this no. we can use e^-2.3034, which gives about 0.0999 ~ '0.1'.\n",
        "# \"0.1\": It is the predicted prob. of the correct label. the lower the loss, the better the model is. this value is bad."
      ],
      "metadata": {
        "colab": {
          "base_uri": "https://localhost:8080/"
        },
        "id": "BaQ_7HBTc6o8",
        "outputId": "0c0cfefa-bd39-470a-8f10-43818834df1a"
      },
      "execution_count": null,
      "outputs": [
        {
          "output_type": "stream",
          "name": "stdout",
          "text": [
            "tensor(2.3034, grad_fn=<NllLossBackward0>)\n"
          ]
        }
      ]
    },
    {
      "cell_type": "markdown",
      "source": [
        "\n",
        "\n",
        "```\n",
        "Training: \n",
        "\n",
        "for epoch in range(num_epochs):\n",
        "    # Training phase\n",
        "    for batch in train_loader:\n",
        "        # Generate predictions\n",
        "        # Calculate loss\n",
        "        # Compute gradients\n",
        "        # Update weights\n",
        "        # Reset gradients\n",
        "\n",
        "    # Validation phase\n",
        "    for batch in val_loader:\n",
        "        # Generate predictions\n",
        "        # Calculate loss\n",
        "        # Calculate metrics (accuracy etc.)\n",
        "    # Calculate average validation loss & metrics\n",
        "\n",
        "    # Log epoch, loss & metrics for inspection\n",
        "```\n",
        "\n"
      ],
      "metadata": {
        "id": "qn6LU9udkv0h"
      }
    },
    {
      "cell_type": "code",
      "source": [
        "# now since we have defined data loader,models and loss functions. we can now train our model\n",
        "# We are using stochastic gradient descent as an optimizer \n",
        "def fit(epochs, lr, model, train_loader, val_loader, opt_func=torch.optim.SGD):\n",
        "    optimizer = opt_func(model.parameters(), lr) \n",
        "# What Optimizer ultimately does is that it subtracts a small quantity from the params proportional to the gradient, and it is computed by the loss fn. \n",
        "#Lr is that quantity. It helps preventing the model from jumping too far from the weight it curently have.\n",
        "    history = [] # for recording epoch-wise results\n",
        "    \n",
        "    for epoch in range(epochs):\n",
        "        \n",
        "        # Training Phase \n",
        "        for batch in train_loader:\n",
        "            loss = model.training_step(batch)\n",
        "            loss.backward() # to compute gradients\n",
        "            optimizer.step() # it changes the weight using GD and learning rate. The resultnt weights will leads to lower loss.\n",
        "            optimizer.zero_grad() # Resetting gradients back to 0\n",
        "        \n",
        "        # Validation phase\n",
        "        result = evaluate(model, val_loader)\n",
        "        model.epoch_end(epoch, result)\n",
        "        history.append(result)\n",
        "\n",
        "    return history"
      ],
      "metadata": {
        "id": "fEBfCXDOc8EB"
      },
      "execution_count": null,
      "outputs": []
    },
    {
      "cell_type": "markdown",
      "source": [
        "\n",
        "\n",
        "```\n",
        "The fit function records the validation loss and metric from each epoch. It returns a history of the training, useful for debugging & visualization.\n",
        "\n",
        "Configurations like batch size, learning rate, etc. (called hyperparameters), need to picked in advance while training machine learning models. \n",
        "Choosing the right hyperparameters is critical for training a reasonably accurate model within a reasonable amount of time. \n",
        "\n",
        "Let's define the evaluate function, used in the validation phase of fit.\n",
        "```\n",
        "\n"
      ],
      "metadata": {
        "id": "glFc4qL1O3qx"
      }
    },
    {
      "cell_type": "code",
      "source": [
        "l1 = [1, 2, 3, 4, 5]"
      ],
      "metadata": {
        "id": "NHo77K0PdCD1"
      },
      "execution_count": null,
      "outputs": []
    },
    {
      "cell_type": "code",
      "source": [
        "l2 = [x*2 for x in l1]\n",
        "l2"
      ],
      "metadata": {
        "colab": {
          "base_uri": "https://localhost:8080/"
        },
        "id": "0hTnKRALdEtr",
        "outputId": "ea459865-7536-4f37-a5a5-a95168708797"
      },
      "execution_count": null,
      "outputs": [
        {
          "output_type": "execute_result",
          "data": {
            "text/plain": [
              "[2, 4, 6, 8, 10]"
            ]
          },
          "metadata": {},
          "execution_count": 42
        }
      ]
    },
    {
      "cell_type": "code",
      "source": [
        "def evaluate(model, val_loader):\n",
        "    outputs = [model.validation_step(batch) for batch in val_loader] # here we are doing list comprehensions\n",
        "    # for every batch in validation set we are invoking model.validation_step fn. within which we're passing batch\n",
        "    # it will return bunch of loss and accuracies and these are getting stored in outputs iin batches.\n",
        "    return model.validation_epoch_end(outputs) # We're now passing the batchwise outputs to this function which will average out the list and return the avg val."
      ],
      "metadata": {
        "id": "YoPuRJSUdGO0"
      },
      "execution_count": null,
      "outputs": []
    },
    {
      "cell_type": "code",
      "source": [
        "class MnistModel(nn.Module):\n",
        "    def __init__(self):\n",
        "        super().__init__()\n",
        "        self.linear = nn.Linear(input_size, num_classes)\n",
        "        \n",
        "    def forward(self, xb):\n",
        "        xb = xb.reshape(-1, 784)\n",
        "        out = self.linear(xb)\n",
        "        return out\n",
        "    \n",
        "    def training_step(self, batch): # it takes the batch of data ans returns the loss\n",
        "        images, labels = batch \n",
        "        out = self(images)                  # Generate predictions\n",
        "        loss = F.cross_entropy(out, labels) # Calculate loss\n",
        "        return loss\n",
        "# In the training step we're taking the images and the labels from the batch then we're passing the image to the model (constructor(self) is passed so we can call the model later)\n",
        "# Then we're calculating the loss by passing the output and the labels. Since every model will have diff. loss, thus we're defining training step as a method inside the model\n",
        "#i.e. we can invoke the training step inside the fit function\n",
        "\n",
        "    def validation_step(self, batch):\n",
        "        images, labels = batch \n",
        "        out = self(images)                    # Generate predictions\n",
        "        loss = F.cross_entropy(out, labels)   # Calculate loss\n",
        "        acc = accuracy(out, labels)           # Calculate accuracy\n",
        "        return {'val_loss': loss, 'val_acc': acc} # returing the output as dictionary\n",
        "        \n",
        "    def validation_epoch_end(self, outputs):\n",
        "        batch_losses = [x['val_loss'] for x in outputs]\n",
        "        epoch_loss = torch.stack(batch_losses).mean()   # Combine losses\n",
        "        batch_accs = [x['val_acc'] for x in outputs]\n",
        "        epoch_acc = torch.stack(batch_accs).mean()      # Combine accuracies\n",
        "        return {'val_loss': epoch_loss.item(), 'val_acc': epoch_acc.item()}\n",
        "    \n",
        "    def epoch_end(self, epoch, result):\n",
        "        print(\"Epoch [{}], val_loss: {:.4f}, val_acc: {:.4f}\".format(epoch, result['val_loss'], result['val_acc']))\n",
        "    \n",
        "model = MnistModel()"
      ],
      "metadata": {
        "id": "upqJcBdydIFw"
      },
      "execution_count": null,
      "outputs": []
    },
    {
      "cell_type": "code",
      "source": [
        "result0 = evaluate(model, val_loader)\n",
        "result0\n",
        "# We're checking the accuracy of the model before trainig the model\n",
        "# acc. comes out to be 14%, Loss comes out to be 2.29"
      ],
      "metadata": {
        "colab": {
          "base_uri": "https://localhost:8080/"
        },
        "id": "3D6WPhYidKPm",
        "outputId": "03844b1b-9b91-487f-967c-34474d881939"
      },
      "execution_count": null,
      "outputs": [
        {
          "output_type": "execute_result",
          "data": {
            "text/plain": [
              "{'val_loss': 2.2940964698791504, 'val_acc': 0.14329509437084198}"
            ]
          },
          "metadata": {},
          "execution_count": 45
        }
      ]
    },
    {
      "cell_type": "code",
      "source": [
        "history1 = fit(5, 0.001, model, train_loader, val_loader)\n",
        "# setting the value of LR is hit and trial method. We could find that after sometime the loss will bounce that's when we knows that we can't increase the LR.\n",
        "# Lr can't be to high not too low(Increases the time for training the model)."
      ],
      "metadata": {
        "colab": {
          "base_uri": "https://localhost:8080/"
        },
        "id": "rocCkqvWdMXs",
        "outputId": "78b33bb5-c487-4b0d-de79-a80de4dba0c1"
      },
      "execution_count": null,
      "outputs": [
        {
          "output_type": "stream",
          "name": "stdout",
          "text": [
            "Epoch [0], val_loss: 1.9287, val_acc: 0.6132\n",
            "Epoch [1], val_loss: 1.6652, val_acc: 0.7349\n",
            "Epoch [2], val_loss: 1.4684, val_acc: 0.7711\n",
            "Epoch [3], val_loss: 1.3195, val_acc: 0.7916\n",
            "Epoch [4], val_loss: 1.2048, val_acc: 0.8048\n"
          ]
        }
      ]
    },
    {
      "cell_type": "code",
      "source": [
        "history2 = fit(5, 0.001, model, train_loader, val_loader)"
      ],
      "metadata": {
        "colab": {
          "base_uri": "https://localhost:8080/"
        },
        "id": "9je_gH6UdOd4",
        "outputId": "5c52afdd-d1f6-4ea6-890f-5dbcedf1c32a"
      },
      "execution_count": null,
      "outputs": [
        {
          "output_type": "stream",
          "name": "stdout",
          "text": [
            "Epoch [0], val_loss: 1.1147, val_acc: 0.8122\n",
            "Epoch [1], val_loss: 1.0422, val_acc: 0.8201\n",
            "Epoch [2], val_loss: 0.9829, val_acc: 0.8251\n",
            "Epoch [3], val_loss: 0.9335, val_acc: 0.8292\n",
            "Epoch [4], val_loss: 0.8916, val_acc: 0.8329\n"
          ]
        }
      ]
    },
    {
      "cell_type": "code",
      "source": [
        "history3 = fit(5, 0.001, model, train_loader, val_loader)"
      ],
      "metadata": {
        "colab": {
          "base_uri": "https://localhost:8080/"
        },
        "id": "kRVYMkyldREg",
        "outputId": "82878fe7-1dd6-4ad7-8d52-bd9fe5f406b6"
      },
      "execution_count": null,
      "outputs": [
        {
          "output_type": "stream",
          "name": "stdout",
          "text": [
            "Epoch [0], val_loss: 0.8558, val_acc: 0.8356\n",
            "Epoch [1], val_loss: 0.8248, val_acc: 0.8389\n",
            "Epoch [2], val_loss: 0.7976, val_acc: 0.8419\n",
            "Epoch [3], val_loss: 0.7734, val_acc: 0.8438\n",
            "Epoch [4], val_loss: 0.7520, val_acc: 0.8455\n"
          ]
        }
      ]
    },
    {
      "cell_type": "code",
      "source": [
        "history4 = fit(5, 0.001, model, train_loader, val_loader)"
      ],
      "metadata": {
        "colab": {
          "base_uri": "https://localhost:8080/"
        },
        "id": "Y4_QaYzndTS5",
        "outputId": "4c5d2d53-8622-4433-e8b3-551272c48e2d"
      },
      "execution_count": null,
      "outputs": [
        {
          "output_type": "stream",
          "name": "stdout",
          "text": [
            "Epoch [0], val_loss: 0.7328, val_acc: 0.8478\n",
            "Epoch [1], val_loss: 0.7154, val_acc: 0.8506\n",
            "Epoch [2], val_loss: 0.6996, val_acc: 0.8518\n",
            "Epoch [3], val_loss: 0.6852, val_acc: 0.8529\n",
            "Epoch [4], val_loss: 0.6721, val_acc: 0.8540\n"
          ]
        }
      ]
    },
    {
      "cell_type": "code",
      "source": [
        "history = [result0] + history1 + history2 + history3 + history4\n",
        "accuracies = [result['val_acc'] for result in history]\n",
        "plt.plot(accuracies, '-x')\n",
        "plt.xlabel('epoch')\n",
        "plt.ylabel('accuracy')\n",
        "plt.title('Accuracy vs. No. of epochs');"
      ],
      "metadata": {
        "colab": {
          "base_uri": "https://localhost:8080/",
          "height": 295
        },
        "id": "ycg2DmWfdUr-",
        "outputId": "424a9dcd-017e-4876-e71f-47d7f2c1251c"
      },
      "execution_count": null,
      "outputs": [
        {
          "output_type": "display_data",
          "data": {
            "text/plain": [
              "<Figure size 432x288 with 1 Axes>"
            ],
            "image/png": "[encoded data removed]"
          },
          "metadata": {
            "needs_background": "light"
          }
        }
      ]
    },
    {
      "cell_type": "code",
      "source": [
        "# Define test dataset\n",
        "test_dataset = MNIST(root='data/', \n",
        "                     train=False,\n",
        "                     transform=transforms.ToTensor())"
      ],
      "metadata": {
        "id": "v25r8Fg-dXF1"
      },
      "execution_count": null,
      "outputs": []
    },
    {
      "cell_type": "code",
      "source": [
        "img, label = test_dataset[0]\n",
        "plt.imshow(img[0], cmap='gray')\n",
        "print('Shape:', img.shape)\n",
        "print('Label:', label)"
      ],
      "metadata": {
        "colab": {
          "base_uri": "https://localhost:8080/",
          "height": 300
        },
        "id": "kWRLWZ9adbhj",
        "outputId": "7c07032e-5fb3-44fb-8d18-093a3fd160b5"
      },
      "execution_count": null,
      "outputs": [
        {
          "output_type": "stream",
          "name": "stdout",
          "text": [
            "Shape: torch.Size([1, 28, 28])\n",
            "Label: 7\n"
          ]
        },
        {
          "output_type": "display_data",
          "data": {
            "text/plain": [
              "<Figure size 432x288 with 1 Axes>"
            ],
            "image/png": "[encoded data removed]"
          },
          "metadata": {
            "needs_background": "light"
          }
        }
      ]
    },
    {
      "cell_type": "code",
      "source": [
        "def predict_image(img, model):\n",
        "    xb = img.unsqueeze(0)\n",
        "    yb = model(xb)\n",
        "    _, preds = torch.max(yb, dim=1)\n",
        "    return preds[0].item()\n",
        "# Since our model cannot work with images, it works with batch of images. Thus we need to convert the images into batch of images containing a single image\n",
        "# we can do that by calling \"img.unsqueeze()\": it adds an additional dimension without changing the data. Inshort we just created a batch out of a single image.\n",
        "# then we're putting that batch into our model \n",
        "# Then we will take the prediction with the highest prob. although we have only onw element but since we've created a batch,  we need to follow the procedure\n",
        "#\".item()\": extracts the number out of the tensor so that we can see the num. istead of tensor"
      ],
      "metadata": {
        "id": "gRh9xFbgddHh"
      },
      "execution_count": null,
      "outputs": []
    },
    {
      "cell_type": "code",
      "source": [
        "img, label = test_dataset[0]\n",
        "plt.imshow(img[0], cmap='gray')\n",
        "print('Label:', label, ', Predicted:', predict_image(img, model))"
      ],
      "metadata": {
        "colab": {
          "base_uri": "https://localhost:8080/",
          "height": 282
        },
        "id": "zpTyQLN8de66",
        "outputId": "a22a329b-68d4-471d-bb38-b41a4b623421"
      },
      "execution_count": null,
      "outputs": [
        {
          "output_type": "stream",
          "name": "stdout",
          "text": [
            "Label: 7 , Predicted: 7\n"
          ]
        },
        {
          "output_type": "display_data",
          "data": {
            "text/plain": [
              "<Figure size 432x288 with 1 Axes>"
            ],
            "image/png": "[encoded data removed]"
          },
          "metadata": {
            "needs_background": "light"
          }
        }
      ]
    },
    {
      "cell_type": "code",
      "source": [
        "img, label = test_dataset[10]\n",
        "plt.imshow(img[0], cmap='gray')\n",
        "print('Label:', label, ', Predicted:', predict_image(img, model))"
      ],
      "metadata": {
        "colab": {
          "base_uri": "https://localhost:8080/",
          "height": 282
        },
        "id": "th_TuZ3Adghn",
        "outputId": "37bb9d45-f8d8-46d5-ca18-3177686a6105"
      },
      "execution_count": null,
      "outputs": [
        {
          "output_type": "stream",
          "name": "stdout",
          "text": [
            "Label: 0 , Predicted: 0\n"
          ]
        },
        {
          "output_type": "display_data",
          "data": {
            "text/plain": [
              "<Figure size 432x288 with 1 Axes>"
            ],
            "image/png": "[encoded data removed]"
          },
          "metadata": {
            "needs_background": "light"
          }
        }
      ]
    },
    {
      "cell_type": "code",
      "source": [
        "img, label = test_dataset[193]\n",
        "plt.imshow(img[0], cmap='gray')\n",
        "print('Label:', label, ', Predicted:', predict_image(img, model))"
      ],
      "metadata": {
        "colab": {
          "base_uri": "https://localhost:8080/",
          "height": 282
        },
        "id": "dUWECzOddiPU",
        "outputId": "5d3b575c-94e3-46d6-f12c-61b98ffc3670"
      },
      "execution_count": null,
      "outputs": [
        {
          "output_type": "stream",
          "name": "stdout",
          "text": [
            "Label: 9 , Predicted: 9\n"
          ]
        },
        {
          "output_type": "display_data",
          "data": {
            "text/plain": [
              "<Figure size 432x288 with 1 Axes>"
            ],
            "image/png": "[encoded data removed]"
          },
          "metadata": {
            "needs_background": "light"
          }
        }
      ]
    },
    {
      "cell_type": "code",
      "source": [
        "img, label = test_dataset[1839]\n",
        "plt.imshow(img[0], cmap='gray')\n",
        "print('Label:', label, ', Predicted:', predict_image(img, model))"
      ],
      "metadata": {
        "id": "8GUbh_YRdkJk",
        "colab": {
          "base_uri": "https://localhost:8080/",
          "height": 282
        },
        "outputId": "dfe15f3a-70b7-4b2c-862e-00c8d7691650"
      },
      "execution_count": null,
      "outputs": [
        {
          "output_type": "stream",
          "name": "stdout",
          "text": [
            "Label: 2 , Predicted: 8\n"
          ]
        },
        {
          "output_type": "display_data",
          "data": {
            "text/plain": [
              "<Figure size 432x288 with 1 Axes>"
            ],
            "image/png": "[encoded data removed]"
          },
          "metadata": {
            "needs_background": "light"
          }
        }
      ]
    },
    {
      "cell_type": "code",
      "source": [
        "test_loader = DataLoader(test_dataset, batch_size=256)\n",
        "result = evaluate(model, test_loader)\n",
        "result"
      ],
      "metadata": {
        "colab": {
          "base_uri": "https://localhost:8080/"
        },
        "id": "NUUHUMfGdngn",
        "outputId": "9adc278b-601b-47a5-a306-5a830a4ca94c"
      },
      "execution_count": null,
      "outputs": [
        {
          "output_type": "execute_result",
          "data": {
            "text/plain": [
              "{'val_loss': 0.6385003924369812, 'val_acc': 0.8631836175918579}"
            ]
          },
          "metadata": {},
          "execution_count": 58
        }
      ]
    },
    {
      "cell_type": "code",
      "source": [
        "torch.save(model.state_dict(), 'mnist-logistic.pth')\n",
        "# since we have trained the model and now we dont have random weights and baises we will store them to disc so that when we close the project the weights dont go away.\n",
        "# we save them by using \"torch.save\". we dont need to save the entire model because it contains self defined func. we just need to store weights\n",
        " # we're storing them in \"mnist-logistic.pth\", .pth is pytorch extension for weights"
      ],
      "metadata": {
        "id": "18byfaEndrTq"
      },
      "execution_count": null,
      "outputs": []
    },
    {
      "cell_type": "code",
      "source": [
        "model.state_dict()\n",
        "# It consists of weights and bais inside the linear layer. it is an ordered dictionary. "
      ],
      "metadata": {
        "colab": {
          "base_uri": "https://localhost:8080/"
        },
        "id": "YkhxSny8dt3M",
        "outputId": "6b5fb399-626c-467d-9f28-e959ecef24e6"
      },
      "execution_count": null,
      "outputs": [
        {
          "output_type": "execute_result",
          "data": {
            "text/plain": [
              "OrderedDict([('linear.weight',\n",
              "              tensor([[-0.0348, -0.0154, -0.0101,  ...,  0.0109,  0.0106,  0.0294],\n",
              "                      [-0.0167,  0.0052,  0.0164,  ..., -0.0180, -0.0272,  0.0212],\n",
              "                      [ 0.0301, -0.0312,  0.0342,  ...,  0.0252,  0.0172, -0.0104],\n",
              "                      ...,\n",
              "                      [-0.0312, -0.0157, -0.0160,  ...,  0.0146, -0.0048, -0.0156],\n",
              "                      [ 0.0130, -0.0188, -0.0244,  ..., -0.0116,  0.0350,  0.0158],\n",
              "                      [ 0.0159, -0.0161, -0.0198,  ...,  0.0129,  0.0060,  0.0349]])),\n",
              "             ('linear.bias',\n",
              "              tensor([-7.6912e-02,  6.0273e-02, -1.0912e-02, -1.7774e-02,  1.5225e-02,\n",
              "                       3.1663e-02,  3.4165e-05,  2.9929e-02, -9.2302e-02, -3.5348e-03]))])"
            ]
          },
          "metadata": {},
          "execution_count": 60
        }
      ]
    },
    {
      "cell_type": "code",
      "source": [
        "model2 = MnistModel()"
      ],
      "metadata": {
        "id": "DHiGr_9sdvZn"
      },
      "execution_count": null,
      "outputs": []
    },
    {
      "cell_type": "code",
      "source": [
        "model2.state_dict()"
      ],
      "metadata": {
        "colab": {
          "base_uri": "https://localhost:8080/"
        },
        "id": "GyEMuQPddxGX",
        "outputId": "b8e51405-54a8-4e13-aaab-cd5cd96d6bbb"
      },
      "execution_count": null,
      "outputs": [
        {
          "output_type": "execute_result",
          "data": {
            "text/plain": [
              "OrderedDict([('linear.weight',\n",
              "              tensor([[ 0.0015,  0.0293, -0.0271,  ..., -0.0349, -0.0120, -0.0167],\n",
              "                      [-0.0350, -0.0004,  0.0134,  ..., -0.0163, -0.0117, -0.0080],\n",
              "                      [ 0.0191,  0.0269,  0.0247,  ..., -0.0327,  0.0347, -0.0192],\n",
              "                      ...,\n",
              "                      [ 0.0342, -0.0200,  0.0138,  ...,  0.0223,  0.0174, -0.0172],\n",
              "                      [-0.0228, -0.0304,  0.0295,  ...,  0.0182, -0.0111, -0.0191],\n",
              "                      [-0.0336,  0.0091, -0.0091,  ..., -0.0061,  0.0248,  0.0196]])),\n",
              "             ('linear.bias',\n",
              "              tensor([-0.0266, -0.0090,  0.0171, -0.0166,  0.0158, -0.0342, -0.0105,  0.0015,\n",
              "                      -0.0080,  0.0109]))])"
            ]
          },
          "metadata": {},
          "execution_count": 62
        }
      ]
    },
    {
      "cell_type": "code",
      "source": [
        "evaluate(model2, test_loader)"
      ],
      "metadata": {
        "colab": {
          "base_uri": "https://localhost:8080/"
        },
        "id": "vPnN3uTcdysK",
        "outputId": "13ea2628-b385-4ba7-c8fe-1353a8a57022"
      },
      "execution_count": null,
      "outputs": [
        {
          "output_type": "execute_result",
          "data": {
            "text/plain": [
              "{'val_loss': 2.2927417755126953, 'val_acc': 0.14960937201976776}"
            ]
          },
          "metadata": {},
          "execution_count": 63
        }
      ]
    },
    {
      "cell_type": "code",
      "source": [
        "# as seen above we've created model2, it will have its different weights. So to load the previously saved weights we need to pass\n",
        "model2.load_state_dict(torch.load('mnist-logistic.pth'))\n",
        "model2.state_dict()"
      ],
      "metadata": {
        "colab": {
          "base_uri": "https://localhost:8080/"
        },
        "id": "SgeVWv01d0Ng",
        "outputId": "06dfa3b6-8b95-474f-b97b-cd5e65548a19"
      },
      "execution_count": null,
      "outputs": [
        {
          "output_type": "execute_result",
          "data": {
            "text/plain": [
              "OrderedDict([('linear.weight',\n",
              "              tensor([[-0.0348, -0.0154, -0.0101,  ...,  0.0109,  0.0106,  0.0294],\n",
              "                      [-0.0167,  0.0052,  0.0164,  ..., -0.0180, -0.0272,  0.0212],\n",
              "                      [ 0.0301, -0.0312,  0.0342,  ...,  0.0252,  0.0172, -0.0104],\n",
              "                      ...,\n",
              "                      [-0.0312, -0.0157, -0.0160,  ...,  0.0146, -0.0048, -0.0156],\n",
              "                      [ 0.0130, -0.0188, -0.0244,  ..., -0.0116,  0.0350,  0.0158],\n",
              "                      [ 0.0159, -0.0161, -0.0198,  ...,  0.0129,  0.0060,  0.0349]])),\n",
              "             ('linear.bias',\n",
              "              tensor([-7.6912e-02,  6.0273e-02, -1.0912e-02, -1.7774e-02,  1.5225e-02,\n",
              "                       3.1663e-02,  3.4165e-05,  2.9929e-02, -9.2302e-02, -3.5348e-03]))])"
            ]
          },
          "metadata": {},
          "execution_count": 64
        }
      ]
    },
    {
      "cell_type": "code",
      "source": [
        "test_loader = DataLoader(test_dataset, batch_size=256)\n",
        "result = evaluate(model2, test_loader)\n",
        "result\n",
        "# Now we can see the acc and the loss are same as our previous model."
      ],
      "metadata": {
        "colab": {
          "base_uri": "https://localhost:8080/"
        },
        "id": "F76TWMRyd137",
        "outputId": "1edd7e0e-49f6-444d-f523-90c96c5cc9d9"
      },
      "execution_count": null,
      "outputs": [
        {
          "output_type": "execute_result",
          "data": {
            "text/plain": [
              "{'val_loss': 0.6385003924369812, 'val_acc': 0.8631836175918579}"
            ]
          },
          "metadata": {},
          "execution_count": 65
        }
      ]
    },
    {
      "cell_type": "code",
      "source": [],
      "metadata": {
        "id": "PrBTMZwmd4kt"
      },
      "execution_count": null,
      "outputs": []
    },
    {
      "cell_type": "code",
      "source": [],
      "metadata": {
        "id": "K0i_ZyrRd6Z-"
      },
      "execution_count": null,
      "outputs": []
    }
  ]
}